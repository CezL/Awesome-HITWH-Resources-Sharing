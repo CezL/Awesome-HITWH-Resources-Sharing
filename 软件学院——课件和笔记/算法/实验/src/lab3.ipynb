{
 "cells": [
  {
   "cell_type": "markdown",
   "metadata": {},
   "source": [
    "# Setup"
   ]
  },
  {
   "cell_type": "code",
   "execution_count": 1,
   "metadata": {
    "ExecuteTime": {
     "end_time": "2020-10-24T12:54:10.645262Z",
     "start_time": "2020-10-24T12:54:09.865227Z"
    }
   },
   "outputs": [],
   "source": [
    "import numpy as np\n",
    "import matplotlib.pyplot as plt"
   ]
  },
  {
   "cell_type": "markdown",
   "metadata": {},
   "source": [
    "# Dataset Generation"
   ]
  },
  {
   "cell_type": "code",
   "execution_count": 2,
   "metadata": {
    "ExecuteTime": {
     "end_time": "2020-10-24T12:54:10.691009Z",
     "start_time": "2020-10-24T12:54:10.649126Z"
    }
   },
   "outputs": [],
   "source": [
    "# np.random.seed(2021)\n",
    "n = 20\n",
    "L = np.sort(np.random.randint(n*10,size=(n,)))\n",
    "R = L+np.random.randint(1,n,size=(n,))\n",
    "for i in range(n-1):\n",
    "    if L[i]==L[i+1] and R[i]<R[i+1]:\n",
    "        R[i]=R[i+1]+R[i]\n",
    "        R[i+1]=R[i]-R[i+1]\n",
    "        R[i]=R[i]-R[i+1]\n"
   ]
  },
  {
   "cell_type": "code",
   "execution_count": 3,
   "metadata": {
    "ExecuteTime": {
     "end_time": "2020-10-24T12:54:10.705020Z",
     "start_time": "2020-10-24T12:54:10.695091Z"
    }
   },
   "outputs": [
    {
     "data": {
      "text/plain": [
       "(array([ 26,  30,  32,  38,  50,  52,  59,  67,  68,  86,  86, 101, 139,\n",
       "        142, 161, 166, 169, 173, 175, 188]),\n",
       " array([ 29,  47,  33,  50,  68,  57,  75,  80,  77,  91,  87, 117, 155,\n",
       "        153, 171, 168, 171, 191, 181, 196]))"
      ]
     },
     "execution_count": 3,
     "metadata": {},
     "output_type": "execute_result"
    }
   ],
   "source": [
    "L,R "
   ]
  },
  {
   "cell_type": "markdown",
   "metadata": {},
   "source": [
    "# Algorithm"
   ]
  },
  {
   "cell_type": "code",
   "execution_count": 4,
   "metadata": {
    "ExecuteTime": {
     "end_time": "2020-10-24T12:54:10.725952Z",
     "start_time": "2020-10-24T12:54:10.707963Z"
    }
   },
   "outputs": [
    {
     "data": {
      "text/plain": [
       "[0, 1, 3, 4, 7, 9, 11, 12, 14, 17, 19]"
      ]
     },
     "execution_count": 4,
     "metadata": {},
     "output_type": "execute_result"
    }
   ],
   "source": [
    "result = []\n",
    "current = 0 \n",
    "while(current<n):\n",
    "    result.append(current) #最小左顶点区间放入结果集合\n",
    "    num = 0\n",
    "    maxR = -1\n",
    "    s = -1\n",
    "    I = set()\n",
    "    for i in range(current+1,n):\n",
    "        if L[i]<=R[current]:\n",
    "            num = num+1 #统计和最小左顶点区间有交集的区间个数以便于计算下一次区间的位置。\n",
    "            I.add(R[i])\n",
    "            if R[i]>maxR:\n",
    "                maxR=R[i]\n",
    "                s=i        \n",
    "    if len(I)==0:\n",
    "        current = current + num +1\n",
    "    else:\n",
    "        maxR = max(I)\n",
    "        if maxR<=R[current]:\n",
    "            current = current+num+1\n",
    "        else:\n",
    "            current = s    \n",
    "\n",
    "result"
   ]
  },
  {
   "cell_type": "markdown",
   "metadata": {},
   "source": [
    "# Visualization\n",
    "The red intervals are the ones we need in the end. The blue ones, nevertheless, are those we do not require. To view it easier, I drew yellow lines to combine these red intervals."
   ]
  },
  {
   "cell_type": "code",
   "execution_count": 5,
   "metadata": {
    "ExecuteTime": {
     "end_time": "2020-10-24T12:54:11.313399Z",
     "start_time": "2020-10-24T12:54:10.729906Z"
    }
   },
   "outputs": [
    {
     "data": {
      "image/png": "[encoded data removed]",
      "text/plain": [
       "<Figure size 720x504 with 1 Axes>"
      ]
     },
     "metadata": {
      "needs_background": "light"
     },
     "output_type": "display_data"
    }
   ],
   "source": [
    "plt.figure(figsize=(10,7))\n",
    "plt.grid()\n",
    "for i in range(n):\n",
    "    if i in result:\n",
    "        plt.plot([i,i],[L[i],R[i]],c='darkred')\n",
    "    else:\n",
    "        plt.plot([i,i],[L[i],R[i]],c='b')\n",
    "for i in range(len(result)-1):\n",
    "    plt.plot([result[i],result[i+1]],[R[result[i]],L[result[i+1]]],c='yellow')\n",
    "plt.xlabel('Interval Index')\n",
    "plt.ylabel('Value')\n",
    "# plt.legend(('Expected Interval','Unexpected Interval','Path'))\n",
    "plt.savefig('result.jpg')\n",
    "plt.show()"
   ]
  }
 ],
 "metadata": {
  "kernelspec": {
   "display_name": "Python 3.7.0 64-bit ('base': conda)",
   "language": "python",
   "name": "python37064bitbaseconda66eb9fa8ffd64c33a4aac46ebf890ba9"
  },
  "language_info": {
   "codemirror_mode": {
    "name": "ipython",
    "version": 3
   },
   "file_extension": ".py",
   "mimetype": "text/x-python",
   "name": "python",
   "nbconvert_exporter": "python",
   "pygments_lexer": "ipython3",
   "version": "3.7.4"
  },
  "toc": {
   "base_numbering": 1,
   "nav_menu": {},
   "number_sections": true,
   "sideBar": true,
   "skip_h1_title": false,
   "title_cell": "Table of Contents",
   "title_sidebar": "Contents",
   "toc_cell": false,
   "toc_position": {},
   "toc_section_display": true,
   "toc_window_display": false
  }
 },
 "nbformat": 4,
 "nbformat_minor": 4
}
