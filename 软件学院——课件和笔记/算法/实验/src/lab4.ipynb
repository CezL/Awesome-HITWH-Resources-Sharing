{
 "cells": [
  {
   "cell_type": "markdown",
   "metadata": {},
   "source": [
    "# Lab 4"
   ]
  },
  {
   "cell_type": "markdown",
   "metadata": {},
   "source": [
    "# Setup"
   ]
  },
  {
   "cell_type": "code",
   "execution_count": 1,
   "metadata": {
    "ExecuteTime": {
     "end_time": "2020-11-10T01:45:06.133414Z",
     "start_time": "2020-11-10T01:45:05.847799Z"
    }
   },
   "outputs": [],
   "source": [
    "import numpy as np\n",
    "import matplotlib.pyplot as plt"
   ]
  },
  {
   "cell_type": "markdown",
   "metadata": {},
   "source": [
    "# Dataset Generation"
   ]
  },
  {
   "cell_type": "code",
   "execution_count": 2,
   "metadata": {
    "ExecuteTime": {
     "end_time": "2020-11-10T01:45:06.165328Z",
     "start_time": "2020-11-10T01:45:06.134412Z"
    }
   },
   "outputs": [],
   "source": [
    "def getDataset(mode):\n",
    "    np.random.seed(2020)\n",
    "    n = 20\n",
    "    f = np.sort(np.random.randint(n,n*10,size=(n,)))\n",
    "    s = f-np.sort(np.random.randint(1,n,size=(n,)))\n",
    "    if mode=='dp':\n",
    "        ss = np.zeros(n+2)\n",
    "        ff = np.zeros(n+2)\n",
    "        ss[1:-1]=s\n",
    "        ff[1:-1]=f\n",
    "        ss[0]=ff[0]=ss[1]\n",
    "        ss[n+1]=ff[n+1]=ff[n]\n",
    "        return n,ss,ff\n",
    "    else:\n",
    "        return n,s,f"
   ]
  },
  {
   "cell_type": "markdown",
   "metadata": {},
   "source": [
    "# Visualization\n",
    "The red intervals are the ones we need in the end. The blue ones, nevertheless, are those we do not require. To view it easier, I drew yellow lines to combine these red intervals."
   ]
  },
  {
   "cell_type": "code",
   "execution_count": 3,
   "metadata": {
    "ExecuteTime": {
     "end_time": "2020-11-10T01:45:06.182284Z",
     "start_time": "2020-11-10T01:45:06.167324Z"
    }
   },
   "outputs": [],
   "source": [
    "def visulization_activity(result,desp):\n",
    "    plt.figure(figsize=(10,7))\n",
    "    plt.grid()\n",
    "    if desp=='dp':\n",
    "        for i in range(1,n+1):\n",
    "            if i in result:\n",
    "                plt.plot([i,i],[s[i],f[i]],c='darkred')\n",
    "            else:\n",
    "                plt.plot([i,i],[s[i],f[i]],c='b')\n",
    "        for i in range(len(result)-1):\n",
    "            plt.plot([result[i],result[i+1]],[f[result[i]],s[result[i+1]]],c='yellow')\n",
    "        plt.xlabel('Interval Index')\n",
    "        plt.ylabel('Value')\n",
    "        plt.savefig(desp+'_result.jpg')\n",
    "        plt.show()\n",
    "    else:\n",
    "        for i in range(n):\n",
    "            if i in result:\n",
    "                plt.plot([i,i],[s[i],f[i]],c='darkred')\n",
    "            else:\n",
    "                plt.plot([i,i],[s[i],f[i]],c='b')\n",
    "        for i in range(len(result)-1):\n",
    "            plt.plot([result[i],result[i+1]],[f[result[i]],s[result[i+1]]],c='yellow')\n",
    "        plt.xlabel('Interval Index')\n",
    "        plt.ylabel('Value')\n",
    "        plt.savefig(desp+'_result.jpg')\n",
    "        plt.show()"
   ]
  },
  {
   "cell_type": "markdown",
   "metadata": {},
   "source": [
    "# Algorithm"
   ]
  },
  {
   "cell_type": "markdown",
   "metadata": {},
   "source": [
    "## Dynamic Programming"
   ]
  },
  {
   "cell_type": "code",
   "execution_count": 4,
   "metadata": {
    "ExecuteTime": {
     "end_time": "2020-11-10T01:45:06.195250Z",
     "start_time": "2020-11-10T01:45:06.184279Z"
    }
   },
   "outputs": [],
   "source": [
    "n,s,f = getDataset(mode='dp')\n",
    "\n",
    "dp = np.zeros((n+2,n+2),dtype=int)\n",
    "res = np.zeros((n+2,n+2),dtype=int)\n",
    "\n",
    "\n",
    "def get_result(s,f,i,j,res,S):\n",
    "    if res[i][j]==0:\n",
    "        return S\n",
    "    key = res[i][j]\n",
    "    K = S.union({key})\n",
    "    return get_result(s,f,i,key,res,K).union(get_result(s,f,key,j,res,K))\n",
    "    \n",
    "def activity_selection_dp(s,f,n):\n",
    "    for k in range(2,n+2):\n",
    "        for i in range(n-k+2):\n",
    "            j = i + k\n",
    "            pos = -1\n",
    "            for t in range(i+1,j):\n",
    "                if s[t]>=f[i] and f[t]<=s[j]:\n",
    "                    if dp[i][t]+dp[t][j]+1>dp[i][j]:\n",
    "                        dp[i][j]=dp[i][t]+dp[t][j]+1\n",
    "                        pos = t\n",
    "            if(pos!=-1):\n",
    "                res[i][j]=pos\n",
    "#     print(res)\n",
    "    S = {0,n+1}\n",
    "    S = get_result(s,f,0,n+1,res,S)\n",
    "    return sorted(list(S-{0,n+1}))\n"
   ]
  },
  {
   "cell_type": "code",
   "execution_count": 5,
   "metadata": {
    "ExecuteTime": {
     "end_time": "2020-11-10T01:45:06.206221Z",
     "start_time": "2020-11-10T01:45:06.197245Z"
    }
   },
   "outputs": [
    {
     "data": {
      "text/plain": [
       "[1, 2, 4, 5, 8, 10, 11, 13, 15, 17, 20]"
      ]
     },
     "execution_count": 5,
     "metadata": {},
     "output_type": "execute_result"
    }
   ],
   "source": [
    "result_dp = activity_selection_dp(s,f,n)\n",
    "result_dp"
   ]
  },
  {
   "cell_type": "code",
   "execution_count": 6,
   "metadata": {
    "ExecuteTime": {
     "end_time": "2020-11-10T01:45:06.445485Z",
     "start_time": "2020-11-10T01:45:06.208215Z"
    }
   },
   "outputs": [
    {
     "data": {
      "image/png": "[encoded data removed]",
      "text/plain": [
       "<Figure size 720x504 with 1 Axes>"
      ]
     },
     "metadata": {
      "needs_background": "light"
     },
     "output_type": "display_data"
    }
   ],
   "source": [
    "visulization_activity(result_dp,desp='dp')"
   ]
  },
  {
   "cell_type": "markdown",
   "metadata": {
    "ExecuteTime": {
     "end_time": "2020-10-24T12:54:10.725952Z",
     "start_time": "2020-10-24T12:54:10.707963Z"
    }
   },
   "source": [
    "## Greedy"
   ]
  },
  {
   "cell_type": "code",
   "execution_count": 7,
   "metadata": {
    "ExecuteTime": {
     "end_time": "2020-11-10T01:45:06.450465Z",
     "start_time": "2020-11-10T01:45:06.446446Z"
    }
   },
   "outputs": [],
   "source": [
    "n,s,f = getDataset(mode='greedy')\n",
    "\n",
    "A = {0}\n",
    "k=0\n",
    "for m in range(1,n):\n",
    "    if s[m]>=f[k]:\n",
    "        A = A.union({m})\n",
    "        k = m \n",
    "result_greedy = list(A)"
   ]
  },
  {
   "cell_type": "code",
   "execution_count": 8,
   "metadata": {
    "ExecuteTime": {
     "end_time": "2020-11-10T01:45:06.460408Z",
     "start_time": "2020-11-10T01:45:06.453427Z"
    }
   },
   "outputs": [
    {
     "data": {
      "text/plain": [
       "[0, 1, 3, 4, 7, 9, 10, 12, 14, 16, 19]"
      ]
     },
     "execution_count": 8,
     "metadata": {},
     "output_type": "execute_result"
    }
   ],
   "source": [
    "result_greedy"
   ]
  },
  {
   "cell_type": "code",
   "execution_count": 9,
   "metadata": {
    "ExecuteTime": {
     "end_time": "2020-11-10T01:45:06.774168Z",
     "start_time": "2020-11-10T01:45:06.463401Z"
    }
   },
   "outputs": [
    {
     "data": {
      "image/png": "[encoded data removed]",
      "text/plain": [
       "<Figure size 720x504 with 1 Axes>"
      ]
     },
     "metadata": {
      "needs_background": "light"
     },
     "output_type": "display_data"
    }
   ],
   "source": [
    "visulization_activity(result_greedy,desp='greedy')"
   ]
  },
  {
   "cell_type": "markdown",
   "metadata": {},
   "source": [
    "## Tree Searching"
   ]
  },
  {
   "cell_type": "code",
   "execution_count": 10,
   "metadata": {
    "ExecuteTime": {
     "end_time": "2020-11-10T01:45:06.782109Z",
     "start_time": "2020-11-10T01:45:06.775130Z"
    }
   },
   "outputs": [],
   "source": [
    "n,s,f = getDataset(mode='tree')\n",
    "\n",
    "def getPossibleNodes(s,f,i,n):\n",
    "    return [k for k in range(i+1,n) if s[k]>=f[i]]\n",
    "\n",
    "visit = np.zeros(n)\n",
    "def naive_activity_selection_tree(s,f,k,n,h):\n",
    "    if k>=n:\n",
    "        return h\n",
    "    #不选\n",
    "    h_left =  naive_activity_selection_tree(s,f,k+1,n,h)\n",
    "    \n",
    "    #选择\n",
    "    nodes = getPossibleNodes(s,f,k,n)\n",
    "    if len(nodes)>0:\n",
    "        h_right = naive_activity_selection_tree(s,f,nodes[0],n,h+1)\n",
    "    else:\n",
    "        h_right = h+1\n",
    "        \n",
    "    if h_left<h_right:\n",
    "        visit[k]=1\n",
    "    return max(h_left,h_right)"
   ]
  },
  {
   "cell_type": "code",
   "execution_count": 11,
   "metadata": {
    "ExecuteTime": {
     "end_time": "2020-11-10T01:45:06.847472Z",
     "start_time": "2020-11-10T01:45:06.783111Z"
    },
    "scrolled": false
   },
   "outputs": [
    {
     "name": "stdout",
     "output_type": "stream",
     "text": [
      "11\n"
     ]
    }
   ],
   "source": [
    "print(naive_activity_selection_tree(s,f,0,n,0))\n",
    "result_tree = np.where(visit==1)[0]"
   ]
  },
  {
   "cell_type": "code",
   "execution_count": 12,
   "metadata": {
    "ExecuteTime": {
     "end_time": "2020-11-10T01:45:07.111633Z",
     "start_time": "2020-11-10T01:45:06.848931Z"
    },
    "scrolled": false
   },
   "outputs": [
    {
     "data": {
      "image/png": "[encoded data removed]",
      "text/plain": [
       "<Figure size 720x504 with 1 Axes>"
      ]
     },
     "metadata": {
      "needs_background": "light"
     },
     "output_type": "display_data"
    }
   ],
   "source": [
    "visulization_activity(result_tree,desp='naive_tree_search')"
   ]
  },
  {
   "cell_type": "markdown",
   "metadata": {},
   "source": [
    "Use mountain hilling to accelerate the algorithm"
   ]
  },
  {
   "cell_type": "code",
   "execution_count": 24,
   "metadata": {
    "ExecuteTime": {
     "end_time": "2020-11-10T02:04:10.578645Z",
     "start_time": "2020-11-10T02:04:10.568703Z"
    }
   },
   "outputs": [],
   "source": [
    "visit = np.zeros(n)\n",
    "def getNaiveSolution(s,f,k,n):\n",
    "    nodes = getPossibleNodes(s,f,k,n)\n",
    "    if len(nodes)==0:\n",
    "        return 1\n",
    "    idx = np.random.randint(len(nodes))\n",
    "#     print(nodes[idx])\n",
    "    return getNaiveSolution(s,f,nodes[idx],n)+1\n",
    "\n",
    "h_bound = getNaiveSolution(s,f,0,n)\n",
    "\n",
    "def activity_selection_tree(s,f,k,n,h):\n",
    "    if k>=n:\n",
    "        return h\n",
    "    #剪枝\n",
    "    h_bound = getNaiveSolution(s,f,k,n)\n",
    "    if np.where(visit==1)[0].shape[0]+n-k<=h_bound:\n",
    "        return h\n",
    "    \n",
    "    #不选\n",
    "    h_left =  activity_selection_tree(s,f,k+1,n,h)\n",
    "    \n",
    "    #选择\n",
    "    nodes = getPossibleNodes(s,f,k,n)\n",
    "    if len(nodes)>0:\n",
    "        h_right = activity_selection_tree(s,f,nodes[0],n,h+1)\n",
    "    else:\n",
    "        h_right = h+1\n",
    "        \n",
    "    if h_left<h_right:\n",
    "        visit[k]=1\n",
    "    return max(h_left,h_right)"
   ]
  },
  {
   "cell_type": "code",
   "execution_count": 25,
   "metadata": {
    "ExecuteTime": {
     "end_time": "2020-11-10T02:04:18.539258Z",
     "start_time": "2020-11-10T02:04:18.478429Z"
    }
   },
   "outputs": [
    {
     "name": "stdout",
     "output_type": "stream",
     "text": [
      "11\n"
     ]
    }
   ],
   "source": [
    "print(naive_activity_selection_tree(s,f,0,n,0))\n",
    "result_tree = np.where(visit==1)[0]"
   ]
  },
  {
   "cell_type": "code",
   "execution_count": 26,
   "metadata": {
    "ExecuteTime": {
     "end_time": "2020-11-10T02:04:29.887814Z",
     "start_time": "2020-11-10T02:04:29.654946Z"
    }
   },
   "outputs": [
    {
     "data": {
      "image/png": "[encoded data removed]",
      "text/plain": [
       "<Figure size 720x504 with 1 Axes>"
      ]
     },
     "metadata": {
      "needs_background": "light"
     },
     "output_type": "display_data"
    }
   ],
   "source": [
    "visulization_activity(result_tree,desp='tree_search')"
   ]
  },
  {
   "cell_type": "code",
   "execution_count": null,
   "metadata": {},
   "outputs": [],
   "source": []
  }
 ],
 "metadata": {
  "kernelspec": {
   "display_name": "Python 3.7.0 64-bit ('base': conda)",
   "language": "python",
   "name": "python37064bitbaseconda66eb9fa8ffd64c33a4aac46ebf890ba9"
  },
  "language_info": {
   "codemirror_mode": {
    "name": "ipython",
    "version": 3
   },
   "file_extension": ".py",
   "mimetype": "text/x-python",
   "name": "python",
   "nbconvert_exporter": "python",
   "pygments_lexer": "ipython3",
   "version": "3.7.4"
  },
  "toc": {
   "base_numbering": 1,
   "nav_menu": {},
   "number_sections": true,
   "sideBar": true,
   "skip_h1_title": false,
   "title_cell": "Table of Contents",
   "title_sidebar": "Contents",
   "toc_cell": false,
   "toc_position": {},
   "toc_section_display": true,
   "toc_window_display": false
  }
 },
 "nbformat": 4,
 "nbformat_minor": 4
}
