{
 "cells": [
  {
   "cell_type": "markdown",
   "metadata": {},
   "source": [
    "# Lab 4"
   ]
  },
  {
   "cell_type": "markdown",
   "metadata": {},
   "source": [
    "# Setup"
   ]
  },
  {
   "cell_type": "code",
   "execution_count": 1,
   "metadata": {
    "ExecuteTime": {
     "end_time": "2020-11-03T01:26:11.726464Z",
     "start_time": "2020-11-03T01:26:11.454193Z"
    }
   },
   "outputs": [],
   "source": [
    "import numpy as np\n",
    "import matplotlib.pyplot as plt"
   ]
  },
  {
   "cell_type": "markdown",
   "metadata": {},
   "source": [
    "# Dataset Generation"
   ]
  },
  {
   "cell_type": "code",
   "execution_count": 2,
   "metadata": {
    "ExecuteTime": {
     "end_time": "2020-11-03T01:26:11.733446Z",
     "start_time": "2020-11-03T01:26:11.727461Z"
    }
   },
   "outputs": [],
   "source": [
    "np.random.seed(2020)\n",
    "n = 20\n",
    "f = np.sort(np.random.randint(n,n*10,size=(n,)))\n",
    "s = f-np.sort(np.random.randint(1,n,size=(n,)))\n",
    "\n"
   ]
  },
  {
   "cell_type": "code",
   "execution_count": 3,
   "metadata": {
    "ExecuteTime": {
     "end_time": "2020-11-03T01:26:11.744462Z",
     "start_time": "2020-11-03T01:26:11.735440Z"
    }
   },
   "outputs": [
    {
     "data": {
      "text/plain": [
       "(array([ 27,  66,  66,  72,  83,  84,  86, 105, 109, 115, 127, 131, 136,\n",
       "        141, 146, 148, 157, 161, 163, 180]),\n",
       " array([ 29,  68,  68,  75,  87,  89,  91, 111, 116, 122, 134, 138, 145,\n",
       "        151, 156, 159, 172, 177, 180, 199]))"
      ]
     },
     "execution_count": 3,
     "metadata": {},
     "output_type": "execute_result"
    }
   ],
   "source": [
    "s,f"
   ]
  },
  {
   "cell_type": "markdown",
   "metadata": {},
   "source": [
    "# Visualization\n",
    "The red intervals are the ones we need in the end. The blue ones, nevertheless, are those we do not require. To view it easier, I drew yellow lines to combine these red intervals."
   ]
  },
  {
   "cell_type": "code",
   "execution_count": 17,
   "metadata": {
    "ExecuteTime": {
     "end_time": "2020-11-03T01:31:46.350555Z",
     "start_time": "2020-11-03T01:31:46.342574Z"
    }
   },
   "outputs": [],
   "source": [
    "def visulization_activity(result,desp):\n",
    "    plt.figure(figsize=(10,7))\n",
    "    plt.grid()\n",
    "    for i in range(n):\n",
    "        if i in result:\n",
    "            plt.plot([i,i],[s[i],f[i]],c='darkred')\n",
    "        else:\n",
    "            plt.plot([i,i],[s[i],f[i]],c='b')\n",
    "    for i in range(len(result)-1):\n",
    "        plt.plot([result[i],result[i+1]],[f[result[i]],s[result[i+1]]],c='yellow')\n",
    "    plt.xlabel('Interval Index')\n",
    "    plt.ylabel('Value')\n",
    "    plt.savefig(desp+'_result.jpg')\n",
    "    plt.show()"
   ]
  },
  {
   "cell_type": "markdown",
   "metadata": {},
   "source": [
    "# Algorithm"
   ]
  },
  {
   "cell_type": "markdown",
   "metadata": {
    "ExecuteTime": {
     "end_time": "2020-10-24T12:54:10.725952Z",
     "start_time": "2020-10-24T12:54:10.707963Z"
    }
   },
   "source": [
    "## Greedy"
   ]
  },
  {
   "cell_type": "code",
   "execution_count": 10,
   "metadata": {
    "ExecuteTime": {
     "end_time": "2020-11-03T01:30:24.994634Z",
     "start_time": "2020-11-03T01:30:24.990643Z"
    }
   },
   "outputs": [],
   "source": [
    "A = {0}\n",
    "k=0\n",
    "for m in range(1,n):\n",
    "    if s[m]>=f[k]:\n",
    "        A = A.union({m})\n",
    "        k = m \n",
    "result_greedy = list(A)"
   ]
  },
  {
   "cell_type": "code",
   "execution_count": 11,
   "metadata": {
    "ExecuteTime": {
     "end_time": "2020-11-03T01:30:25.403283Z",
     "start_time": "2020-11-03T01:30:25.398295Z"
    }
   },
   "outputs": [
    {
     "data": {
      "text/plain": [
       "[0, 1, 3, 4, 7, 9, 10, 12, 14, 16, 19]"
      ]
     },
     "execution_count": 11,
     "metadata": {},
     "output_type": "execute_result"
    }
   ],
   "source": [
    "result_greedy"
   ]
  },
  {
   "cell_type": "code",
   "execution_count": 18,
   "metadata": {
    "ExecuteTime": {
     "end_time": "2020-11-03T01:31:49.312565Z",
     "start_time": "2020-11-03T01:31:49.118023Z"
    }
   },
   "outputs": [
    {
     "data": {
      "image/png": "[encoded data removed]",
      "text/plain": [
       "<Figure size 720x504 with 1 Axes>"
      ]
     },
     "metadata": {
      "needs_background": "light"
     },
     "output_type": "display_data"
    }
   ],
   "source": [
    "visulization_activity(result_greedy,desp='greedy')"
   ]
  },
  {
   "cell_type": "code",
   "execution_count": null,
   "metadata": {},
   "outputs": [],
   "source": []
  }
 ],
 "metadata": {
  "kernelspec": {
   "display_name": "Python 3.7.0 64-bit ('base': conda)",
   "language": "python",
   "name": "python37064bitbaseconda66eb9fa8ffd64c33a4aac46ebf890ba9"
  },
  "language_info": {
   "codemirror_mode": {
    "name": "ipython",
    "version": 3
   },
   "file_extension": ".py",
   "mimetype": "text/x-python",
   "name": "python",
   "nbconvert_exporter": "python",
   "pygments_lexer": "ipython3",
   "version": "3.7.4"
  },
  "toc": {
   "base_numbering": 1,
   "nav_menu": {},
   "number_sections": true,
   "sideBar": true,
   "skip_h1_title": false,
   "title_cell": "Table of Contents",
   "title_sidebar": "Contents",
   "toc_cell": false,
   "toc_position": {},
   "toc_section_display": true,
   "toc_window_display": true
  }
 },
 "nbformat": 4,
 "nbformat_minor": 4
}
