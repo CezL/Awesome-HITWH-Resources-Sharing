{
 "cells": [
  {
   "cell_type": "code",
   "execution_count": 172,
   "metadata": {
    "ExecuteTime": {
     "end_time": "2020-10-10T00:12:30.551440Z",
     "start_time": "2020-10-10T00:12:30.546453Z"
    }
   },
   "outputs": [],
   "source": [
    "import matplotlib.pyplot as plt\n",
    "import numpy as np\n",
    "from functools import partial \n",
    "import time"
   ]
  },
  {
   "cell_type": "markdown",
   "metadata": {},
   "source": [
    "# data generation(all in range 0~1)"
   ]
  },
  {
   "cell_type": "code",
   "execution_count": 2,
   "metadata": {
    "ExecuteTime": {
     "end_time": "2020-10-09T09:40:00.155120Z",
     "start_time": "2020-10-09T09:40:00.151130Z"
    }
   },
   "outputs": [],
   "source": [
    "scales = [10**i for i in range(1,9)]"
   ]
  },
  {
   "cell_type": "code",
   "execution_count": 3,
   "metadata": {
    "ExecuteTime": {
     "end_time": "2020-10-09T09:41:21.947744Z",
     "start_time": "2020-10-09T09:40:00.832194Z"
    }
   },
   "outputs": [],
   "source": [
    "dataset_list={}\n",
    "for i in range(len(scales)):\n",
    "    dataset_list[i]=np.random.random((10,scales[i]))"
   ]
  },
  {
   "cell_type": "markdown",
   "metadata": {},
   "source": [
    "# sort algorithms"
   ]
  },
  {
   "cell_type": "markdown",
   "metadata": {},
   "source": [
    "## Insertion Sort"
   ]
  },
  {
   "cell_type": "code",
   "execution_count": 4,
   "metadata": {
    "ExecuteTime": {
     "end_time": "2020-10-09T09:44:12.591451Z",
     "start_time": "2020-10-09T09:44:12.579486Z"
    }
   },
   "outputs": [],
   "source": [
    "def insertionSort(b):\n",
    "    a=b.copy()\n",
    "    N=len(a)\n",
    "    for i in range(1,N):\n",
    "        for j in reversed(range(1,i+1)):\n",
    "            if a[j]>=a[j-1]:\n",
    "                break\n",
    "            c = a[j]\n",
    "            a[j] = a[j-1]\n",
    "            a[j-1] = c\n",
    "    return a"
   ]
  },
  {
   "cell_type": "markdown",
   "metadata": {},
   "source": [
    "## Merge Sort"
   ]
  },
  {
   "cell_type": "code",
   "execution_count": 5,
   "metadata": {
    "ExecuteTime": {
     "end_time": "2020-10-09T09:44:13.009335Z",
     "start_time": "2020-10-09T09:44:13.002352Z"
    }
   },
   "outputs": [],
   "source": [
    "def merge(arr, l, m, r): \n",
    "    n1 = m - l + 1\n",
    "    n2 = r- m \n",
    "  \n",
    "    L = [0] * (n1)\n",
    "    R = [0] * (n2)\n",
    "  \n",
    "    for i in range(0 , n1): \n",
    "        L[i] = arr[l + i] \n",
    "  \n",
    "    for j in range(0 , n2): \n",
    "        R[j] = arr[m + 1 + j] \n",
    "  \n",
    "    i = 0     \n",
    "    j = 0     \n",
    "    k = l    \n",
    "  \n",
    "    while i < n1 and j < n2 : \n",
    "        if L[i] <= R[j]: \n",
    "            arr[k] = L[i] \n",
    "            i += 1\n",
    "        else: \n",
    "            arr[k] = R[j] \n",
    "            j += 1\n",
    "        k += 1\n",
    "  \n",
    "    while i < n1: \n",
    "        arr[k] = L[i] \n",
    "        i += 1\n",
    "        k += 1\n",
    "  \n",
    "    while j < n2: \n",
    "        arr[k] = R[j] \n",
    "        j += 1\n",
    "        k += 1"
   ]
  },
  {
   "cell_type": "code",
   "execution_count": 6,
   "metadata": {
    "ExecuteTime": {
     "end_time": "2020-10-09T09:44:13.267644Z",
     "start_time": "2020-10-09T09:44:13.260667Z"
    },
    "scrolled": false
   },
   "outputs": [],
   "source": [
    "def mergeSort(arr,l,r): \n",
    "    if l < r:         \n",
    "        m = int((l+(r-1))/2)       \n",
    "        mergeSort(arr, l, m) \n",
    "        mergeSort(arr, m+1, r) \n",
    "        merge(arr, l, m, r) "
   ]
  },
  {
   "cell_type": "markdown",
   "metadata": {
    "ExecuteTime": {
     "end_time": "2020-10-09T09:26:15.054193Z",
     "start_time": "2020-10-09T09:26:15.050238Z"
    }
   },
   "source": [
    "## Quick Sort"
   ]
  },
  {
   "cell_type": "code",
   "execution_count": 7,
   "metadata": {
    "ExecuteTime": {
     "end_time": "2020-10-09T09:44:13.719537Z",
     "start_time": "2020-10-09T09:44:13.715508Z"
    }
   },
   "outputs": [],
   "source": [
    "def partition(arr,low,high): \n",
    "    i = ( low-1 )         \n",
    "    pivot = arr[high]     \n",
    "  \n",
    "    for j in range(low , high): \n",
    "        if   arr[j] <= pivot: \n",
    "          \n",
    "            i = i+1 \n",
    "            arr[i],arr[j] = arr[j],arr[i] \n",
    "  \n",
    "    arr[i+1],arr[high] = arr[high],arr[i+1] \n",
    "    return i+1"
   ]
  },
  {
   "cell_type": "code",
   "execution_count": 8,
   "metadata": {
    "ExecuteTime": {
     "end_time": "2020-10-09T09:44:13.925869Z",
     "start_time": "2020-10-09T09:44:13.919843Z"
    }
   },
   "outputs": [],
   "source": [
    "def quickSort(arr,low,high): \n",
    "    if low < high: \n",
    "        pi = partition(arr,low,high) \n",
    "        quickSort(arr, low, pi-1) \n",
    "        quickSort(arr, pi+1, high) "
   ]
  },
  {
   "cell_type": "markdown",
   "metadata": {
    "ExecuteTime": {
     "end_time": "2020-10-09T13:18:04.352685Z",
     "start_time": "2020-10-09T13:18:04.117265Z"
    }
   },
   "source": [
    "# selection without sort"
   ]
  },
  {
   "cell_type": "code",
   "execution_count": 147,
   "metadata": {
    "ExecuteTime": {
     "end_time": "2020-10-09T23:44:20.949427Z",
     "start_time": "2020-10-09T23:44:20.936464Z"
    }
   },
   "outputs": [],
   "source": [
    "def calculate_p(a):\n",
    "    a = np.array(a)\n",
    "    N = len(a)\n",
    "    if N==1:\n",
    "        return a[0]\n",
    "    elif N<5:\n",
    "        if N%2==0:\n",
    "            return 0.5*(sorted(a)[N//2]+sorted(a)[N//2-1])\n",
    "        else:\n",
    "            return sorted(a)[N//2]\n",
    "    N_big = N\n",
    "    if not N%5==0:\n",
    "        N_big = N+5-N%5\n",
    "    fold = N_big//5\n",
    "    b = np.zeros((fold,5))\n",
    "    b_list = []\n",
    "    if not N%5==0:\n",
    "        for i in range(fold-1):\n",
    "            b[i]=a[i*5:(i+1)*5]\n",
    "        remain = N+5-N_big\n",
    "        b[fold-1][:remain]=a[N_big-5:N]\n",
    "        b[fold-1][remain:]=float(\"inf\")\n",
    "        for i in range(fold-1):\n",
    "            b_list.append(sorted(b[i])[2])\n",
    "        if (-N_big+N+5)%2==0:\n",
    "            b_list.append(0.5*(sorted(b[fold-1][:remain])[remain//2]+sorted(b[fold-1])[remain//2-1]))\n",
    "        else:\n",
    "            b_list.append(sorted(b[fold-1][:remain])[remain//2])\n",
    "    else:\n",
    "        for i in range(fold):\n",
    "            b[i]=a[i*5:(i+1)*5]\n",
    "            b_list.append(sorted(b[i])[2])\n",
    "#     print(b_list)\n",
    "    p = calculate_p(b_list)\n",
    "    return p"
   ]
  },
  {
   "cell_type": "code",
   "execution_count": 148,
   "metadata": {
    "ExecuteTime": {
     "end_time": "2020-10-09T23:44:21.133944Z",
     "start_time": "2020-10-09T23:44:21.128948Z"
    }
   },
   "outputs": [],
   "source": [
    "def partition_p(a):\n",
    "    p = calculate_p(a)\n",
    "    a_left,a_right,a_equal=[],[],[]\n",
    "    for i in range(len(a)):\n",
    "        if a[i]<p:\n",
    "            a_left.append(a[i])\n",
    "        elif a[i]==p:\n",
    "            a_equal.append(a[i])\n",
    "        else:\n",
    "            a_right.append(a[i])\n",
    "    return a_left,a_equal,a_right"
   ]
  },
  {
   "cell_type": "code",
   "execution_count": 149,
   "metadata": {
    "ExecuteTime": {
     "end_time": "2020-10-09T23:44:21.420171Z",
     "start_time": "2020-10-09T23:44:21.415184Z"
    }
   },
   "outputs": [],
   "source": [
    "def selection(a,k):\n",
    "    a_left,a_equal,a_right = partition_p(a)\n",
    "    if len(a_left)>=k:\n",
    "        return selection(a_left,k)\n",
    "    elif len(a_left)+len(a_equal)>=k:\n",
    "        return a_equal[0]\n",
    "    else:\n",
    "        k_ = k-len(a_left)-len(a_equal)\n",
    "        return selection(a_right,k_)"
   ]
  },
  {
   "cell_type": "code",
   "execution_count": 150,
   "metadata": {
    "ExecuteTime": {
     "end_time": "2020-10-09T23:44:22.836717Z",
     "start_time": "2020-10-09T23:44:22.829737Z"
    }
   },
   "outputs": [
    {
     "data": {
      "text/plain": [
       "([1, 2, 2, 3, 4, 4, 5, 5, 6, 7, 76], 6, 6)"
      ]
     },
     "execution_count": 150,
     "metadata": {},
     "output_type": "execute_result"
    }
   ],
   "source": [
    "a = [1,5,2,76,5,7,4,4,2,6,3]\n",
    "sorted(a),sorted(a)[8],selection(a,9)"
   ]
  },
  {
   "cell_type": "code",
   "execution_count": 143,
   "metadata": {
    "ExecuteTime": {
     "end_time": "2020-10-09T23:37:59.872560Z",
     "start_time": "2020-10-09T23:37:59.832668Z"
    }
   },
   "outputs": [
    {
     "name": "stdout",
     "output_type": "stream",
     "text": [
      "0.0625\n"
     ]
    }
   ],
   "source": [
    "t0 = time.process_time()\n",
    "for i in range(1000):\n",
    "    selection(a,9)\n",
    "print(time.process_time()-t0)"
   ]
  },
  {
   "cell_type": "markdown",
   "metadata": {},
   "source": [
    "# Plot the Results"
   ]
  },
  {
   "cell_type": "markdown",
   "metadata": {},
   "source": [
    "## Compare serveral algorithms"
   ]
  },
  {
   "cell_type": "code",
   "execution_count": 227,
   "metadata": {
    "ExecuteTime": {
     "end_time": "2020-10-10T00:34:04.755588Z",
     "start_time": "2020-10-10T00:34:04.751596Z"
    }
   },
   "outputs": [],
   "source": [
    "def test_insertion(scale,n=10):\n",
    "    t0 = time.process_time()\n",
    "    for j in range(n):\n",
    "        for i in range(10):\n",
    "            insertionSort(dataset_list[scale-1][i])\n",
    "    return (time.process_time()-t0)/(10*n)"
   ]
  },
  {
   "cell_type": "code",
   "execution_count": 230,
   "metadata": {
    "ExecuteTime": {
     "end_time": "2020-10-10T01:14:37.023975Z",
     "start_time": "2020-10-10T00:37:51.359935Z"
    }
   },
   "outputs": [
    {
     "data": {
      "text/plain": [
       "[4.6875e-05, 0.00171875, 0.19859375, 21.7275]"
      ]
     },
     "execution_count": 230,
     "metadata": {},
     "output_type": "execute_result"
    }
   ],
   "source": [
    "insertion_list = [test_insertion(1,100)]\n",
    "for i in range(2,5):\n",
    "    insertion_list.append(test_insertion(i))\n",
    "insertion_list"
   ]
  },
  {
   "cell_type": "code",
   "execution_count": 258,
   "metadata": {
    "ExecuteTime": {
     "end_time": "2020-10-10T01:31:01.748940Z",
     "start_time": "2020-10-10T01:31:01.741963Z"
    }
   },
   "outputs": [],
   "source": [
    "def test_merge_quick(scale,alg,n=10):\n",
    "    t0 = time.process_time()\n",
    "    for j in range(n):\n",
    "        for i in range(10): \n",
    "#             print(dataset_list[scale-1][i].shape)\n",
    "            alg(dataset_list[scale-1][i],0,scales[scale-1]-1)\n",
    "    return (time.process_time()-t0)/(10*n)"
   ]
  },
  {
   "cell_type": "code",
   "execution_count": null,
   "metadata": {
    "ExecuteTime": {
     "start_time": "2020-10-10T01:31:02.143Z"
    }
   },
   "outputs": [],
   "source": [
    "merge_list = [test_merge_quick(1,mergeSort,1000)]\n",
    "for i in range(2,8):\n",
    "    merge_list.append(test_merge_quick(i,mergeSort))\n",
    "merge_list"
   ]
  },
  {
   "cell_type": "code",
   "execution_count": null,
   "metadata": {
    "ExecuteTime": {
     "start_time": "2020-10-10T01:31:16.687Z"
    }
   },
   "outputs": [],
   "source": [
    "quick_list = [test_merge_quick(1,quickSort,100)]\n",
    "for i in range(2,8):\n",
    "    quick_list.append(test_merge_quick(i,quickSort))\n",
    "quick_list"
   ]
  },
  {
   "cell_type": "code",
   "execution_count": 144,
   "metadata": {
    "ExecuteTime": {
     "end_time": "2020-10-09T23:40:56.178394Z",
     "start_time": "2020-10-09T23:40:56.171418Z"
    }
   },
   "outputs": [],
   "source": [
    "def plot_fig():\n",
    "    plt.figure(figsize=(7,5))\n",
    "    plt.plot(np.log10(scales),insertion_list)\n",
    "    plt.plot(np.log10(scales),merge_list)\n",
    "    plt.plot(np.log10(scales),quick_list)\n",
    "    plt.xlabel(\"log(Dataset Scale)\")\n",
    "    plt.ylabel(\"Average Time for each scale\")\n",
    "    plt.title('Compare serveral sort algorithms')\n",
    "    plt.legend(('Insertion','Merge','Quick'))\n",
    "    plt.savefig('sort.jpg',dpi=300)"
   ]
  },
  {
   "cell_type": "code",
   "execution_count": 146,
   "metadata": {
    "ExecuteTime": {
     "end_time": "2020-10-09T23:41:11.111697Z",
     "start_time": "2020-10-09T23:41:10.746147Z"
    },
    "scrolled": false
   },
   "outputs": [
    {
     "data": {
      "image/png": "[encoded data removed]",
      "text/plain": [
       "<Figure size 504x360 with 1 Axes>"
      ]
     },
     "metadata": {
      "needs_background": "light"
     },
     "output_type": "display_data"
    }
   ],
   "source": [
    "plot_fig(np.random.rand(8))"
   ]
  },
  {
   "cell_type": "code",
   "execution_count": null,
   "metadata": {},
   "outputs": [],
   "source": []
  }
 ],
 "metadata": {
  "kernelspec": {
   "display_name": "Python 3",
   "language": "python",
   "name": "python3"
  },
  "toc": {
   "base_numbering": 1,
   "nav_menu": {},
   "number_sections": true,
   "sideBar": true,
   "skip_h1_title": false,
   "title_cell": "Table of Contents",
   "title_sidebar": "Contents",
   "toc_cell": false,
   "toc_position": {},
   "toc_section_display": true,
   "toc_window_display": false
  }
 },
 "nbformat": 4,
 "nbformat_minor": 4
}
