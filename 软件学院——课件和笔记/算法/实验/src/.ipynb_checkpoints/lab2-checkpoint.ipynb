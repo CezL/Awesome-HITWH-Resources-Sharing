{
 "cells": [
  {
   "cell_type": "code",
   "execution_count": 1,
   "metadata": {
    "ExecuteTime": {
     "end_time": "2020-10-16T09:34:25.252265Z",
     "start_time": "2020-10-16T09:34:25.069071Z"
    }
   },
   "outputs": [],
   "source": [
    "import numpy as np\n",
    "np.random.seed(2020)"
   ]
  },
  {
   "cell_type": "code",
   "execution_count": 2,
   "metadata": {
    "ExecuteTime": {
     "end_time": "2020-10-16T09:34:25.286223Z",
     "start_time": "2020-10-16T09:34:25.256253Z"
    }
   },
   "outputs": [
    {
     "data": {
      "text/plain": [
       "array([0, 8, 3, 6, 3, 3, 7, 8, 0, 0])"
      ]
     },
     "execution_count": 2,
     "metadata": {},
     "output_type": "execute_result"
    }
   ],
   "source": [
    "n=10\n",
    "a = np.random.randint(0,n,size=n)\n",
    "a "
   ]
  },
  {
   "cell_type": "code",
   "execution_count": 3,
   "metadata": {
    "ExecuteTime": {
     "end_time": "2020-10-16T09:34:25.300137Z",
     "start_time": "2020-10-16T09:34:25.292161Z"
    }
   },
   "outputs": [],
   "source": [
    "dp = [0]*n\n",
    "pre_node = [0]*n\n",
    "path = {}"
   ]
  },
  {
   "cell_type": "code",
   "execution_count": 4,
   "metadata": {
    "ExecuteTime": {
     "end_time": "2020-10-16T09:34:25.320082Z",
     "start_time": "2020-10-16T09:34:25.306119Z"
    }
   },
   "outputs": [],
   "source": [
    "def get_max_length(a,i):\n",
    "    if i==0:\n",
    "        dp[i]=1\n",
    "        pre_node[i]=0\n",
    "        return dp[i]\n",
    "    maxx = -1\n",
    "    for j in range(i): \n",
    "        tmp = get_max_length(a,j)\n",
    "        if a[j]<=a[i] and maxx<tmp:\n",
    "            maxx = tmp\n",
    "            pre_node[i]=j\n",
    "    dp[i]=maxx+1\n",
    "    return dp[i]"
   ]
  },
  {
   "cell_type": "code",
   "execution_count": 5,
   "metadata": {
    "ExecuteTime": {
     "end_time": "2020-10-16T09:34:25.337257Z",
     "start_time": "2020-10-16T09:34:25.325288Z"
    }
   },
   "outputs": [],
   "source": [
    "def get_path(i):\n",
    "    if i==0:\n",
    "        path[i]=str(i)\n",
    "        return path[i]\n",
    "        \n",
    "    path[i]=get_path(pre_node[i])+'->'+str(i)\n",
    "    return path[i]"
   ]
  },
  {
   "cell_type": "code",
   "execution_count": 11,
   "metadata": {
    "ExecuteTime": {
     "end_time": "2020-10-16T09:36:05.544796Z",
     "start_time": "2020-10-16T09:36:05.536176Z"
    }
   },
   "outputs": [
    {
     "data": {
      "text/plain": [
       "(3, '0->8->9')"
      ]
     },
     "execution_count": 11,
     "metadata": {},
     "output_type": "execute_result"
    }
   ],
   "source": [
    "get_max_length(a,n-1)"
   ]
  },
  {
   "cell_type": "code",
   "execution_count": 15,
   "metadata": {
    "ExecuteTime": {
     "end_time": "2020-10-16T09:37:12.294999Z",
     "start_time": "2020-10-16T09:37:12.289017Z"
    }
   },
   "outputs": [],
   "source": [
    "path = [get_path(i) for i in range(n)]"
   ]
  },
  {
   "cell_type": "code",
   "execution_count": 16,
   "metadata": {
    "ExecuteTime": {
     "end_time": "2020-10-16T09:37:13.102631Z",
     "start_time": "2020-10-16T09:37:13.094652Z"
    }
   },
   "outputs": [
    {
     "data": {
      "text/plain": [
       "[0, 0, 0, 2, 2, 4, 5, 6, 0, 8]"
      ]
     },
     "execution_count": 16,
     "metadata": {},
     "output_type": "execute_result"
    }
   ],
   "source": [
    "pre_node"
   ]
  },
  {
   "cell_type": "code",
   "execution_count": 17,
   "metadata": {
    "ExecuteTime": {
     "end_time": "2020-10-16T09:37:13.857892Z",
     "start_time": "2020-10-16T09:37:13.849915Z"
    }
   },
   "outputs": [
    {
     "data": {
      "text/plain": [
       "['0',\n",
       " '0->1',\n",
       " '0->2',\n",
       " '0->2->3',\n",
       " '0->2->4',\n",
       " '0->2->4->5',\n",
       " '0->2->4->5->6',\n",
       " '0->2->4->5->6->7',\n",
       " '0->8',\n",
       " '0->8->9']"
      ]
     },
     "execution_count": 17,
     "metadata": {},
     "output_type": "execute_result"
    }
   ],
   "source": [
    "path"
   ]
  },
  {
   "cell_type": "code",
   "execution_count": 21,
   "metadata": {
    "ExecuteTime": {
     "end_time": "2020-10-16T09:40:54.700794Z",
     "start_time": "2020-10-16T09:40:54.435295Z"
    }
   },
   "outputs": [
    {
     "data": {
      "image/png": "[encoded data removed]",
      "text/plain": [
       "<Figure size 432x288 with 1 Axes>"
      ]
     },
     "metadata": {},
     "output_type": "display_data"
    }
   ],
   "source": [
    "import networkx as nx\n",
    "import matplotlib.pyplot as plt\n",
    "\n",
    "# new graph\n",
    "G = nx.DiGraph()\n",
    "\n",
    "# add node\n",
    "G.add_node('a')\n",
    "G.add_node('b')\n",
    "G.add_node('c')\n",
    "\n",
    "# add edge\n",
    "G.add_edge('a', 'b')\n",
    "G.add_edge('a', 'c')\n",
    "\n",
    "# plot\n",
    "nx.draw(G)\n",
    "plt.show()\n",
    "# plt.savefig(\"path.png\")"
   ]
  },
  {
   "cell_type": "code",
   "execution_count": null,
   "metadata": {},
   "outputs": [],
   "source": []
  }
 ],
 "metadata": {
  "kernelspec": {
   "display_name": "Python 3",
   "language": "python",
   "name": "python3"
  },
  "language_info": {
   "codemirror_mode": {
    "name": "ipython",
    "version": 3
   },
   "file_extension": ".py",
   "mimetype": "text/x-python",
   "name": "python",
   "nbconvert_exporter": "python",
   "pygments_lexer": "ipython3",
   "version": "3.7.4"
  },
  "toc": {
   "base_numbering": 1,
   "nav_menu": {},
   "number_sections": true,
   "sideBar": true,
   "skip_h1_title": false,
   "title_cell": "Table of Contents",
   "title_sidebar": "Contents",
   "toc_cell": false,
   "toc_position": {},
   "toc_section_display": true,
   "toc_window_display": false
  }
 },
 "nbformat": 4,
 "nbformat_minor": 4
}
