{
 "cells": [
  {
   "cell_type": "markdown",
   "metadata": {},
   "source": [
    "# Setup"
   ]
  },
  {
   "cell_type": "code",
   "execution_count": 1,
   "metadata": {
    "ExecuteTime": {
     "end_time": "2020-10-19T13:14:44.860107Z",
     "start_time": "2020-10-19T13:14:44.508814Z"
    }
   },
   "outputs": [],
   "source": [
    "import numpy as np\n",
    "import matplotlib.pyplot as plt"
   ]
  },
  {
   "cell_type": "markdown",
   "metadata": {},
   "source": [
    "# Dataset Preparation"
   ]
  },
  {
   "cell_type": "markdown",
   "metadata": {},
   "source": [
    "## Data Generation"
   ]
  },
  {
   "cell_type": "code",
   "execution_count": 2,
   "metadata": {
    "ExecuteTime": {
     "end_time": "2020-10-19T13:14:44.868375Z",
     "start_time": "2020-10-19T13:14:44.861675Z"
    }
   },
   "outputs": [
    {
     "data": {
      "text/plain": [
       "array([21, 21, 15,  0, 10, 14, 15, 12, 23,  2, 10, 16, 23, 21, 21, 23, 11,\n",
       "        6, 16, 24,  8,  9, 11, 15, 12,  8, 28, 25,  0, 27])"
      ]
     },
     "execution_count": 2,
     "metadata": {},
     "output_type": "execute_result"
    }
   ],
   "source": [
    "n=30\n",
    "a = np.random.randint(0,n,size=n)\n",
    "a "
   ]
  },
  {
   "cell_type": "markdown",
   "metadata": {},
   "source": [
    "## Auxilary Array Definition\n",
    "- dp: dp[i] represents the length of the longest subsequence with the last element i\n",
    "- pre_node: pre_node[i] represents the previous node of element i in the longest subsequence with the last element i\n",
    "- path: path[i] records each path for the longest subsequence with the last element i"
   ]
  },
  {
   "cell_type": "code",
   "execution_count": 3,
   "metadata": {
    "ExecuteTime": {
     "end_time": "2020-10-19T13:14:44.876314Z",
     "start_time": "2020-10-19T13:14:44.870328Z"
    }
   },
   "outputs": [],
   "source": [
    "dp = [1]*n\n",
    "pre_node = [i for i in range(n)]\n",
    "path = [[] for _ in range(n)]"
   ]
  },
  {
   "cell_type": "markdown",
   "metadata": {},
   "source": [
    "# Calculate dp (without recursion)"
   ]
  },
  {
   "cell_type": "code",
   "execution_count": 4,
   "metadata": {
    "ExecuteTime": {
     "end_time": "2020-10-19T13:14:44.914989Z",
     "start_time": "2020-10-19T13:14:44.878130Z"
    }
   },
   "outputs": [],
   "source": [
    "for j in range(1,n):\n",
    "    for i in range(j):\n",
    "        if a[i]<=a[j] and dp[j]<dp[i]+1:\n",
    "            dp[j]=dp[i]+1\n",
    "            pre_node[j]=i    "
   ]
  },
  {
   "cell_type": "code",
   "execution_count": 5,
   "metadata": {
    "ExecuteTime": {
     "end_time": "2020-10-19T13:14:44.923390Z",
     "start_time": "2020-10-19T13:14:44.916706Z"
    }
   },
   "outputs": [
    {
     "name": "stdout",
     "output_type": "stream",
     "text": [
      "[1, 2, 1, 1, 2, 3, 4, 3, 5, 2, 3, 5, 6, 6, 7, 8, 4, 3, 6, 9, 4, 5, 6, 7, 7, 5, 10, 10, 2, 11]\n",
      "[0, 0, 2, 3, 3, 4, 5, 4, 6, 3, 4, 6, 8, 11, 13, 14, 10, 9, 11, 15, 17, 20, 21, 22, 22, 20, 19, 19, 3, 27]\n"
     ]
    }
   ],
   "source": [
    "print(dp)\n",
    "print(pre_node)"
   ]
  },
  {
   "cell_type": "markdown",
   "metadata": {},
   "source": [
    "# Use list pre_node to calculate list path"
   ]
  },
  {
   "cell_type": "code",
   "execution_count": 6,
   "metadata": {
    "ExecuteTime": {
     "end_time": "2020-10-19T13:14:44.932337Z",
     "start_time": "2020-10-19T13:14:44.926312Z"
    }
   },
   "outputs": [],
   "source": [
    "for j in range(n):\n",
    "    if pre_node[j]==j:\n",
    "        path[j].append(j)\n",
    "        continue\n",
    "    tmp = path[pre_node[j]].copy()\n",
    "    tmp.append(j)\n",
    "    path[j]=tmp"
   ]
  },
  {
   "cell_type": "code",
   "execution_count": 7,
   "metadata": {
    "ExecuteTime": {
     "end_time": "2020-10-19T13:14:44.959231Z",
     "start_time": "2020-10-19T13:14:44.933299Z"
    },
    "scrolled": false
   },
   "outputs": [
    {
     "data": {
      "text/plain": [
       "[[0],\n",
       " [0, 1],\n",
       " [2],\n",
       " [3],\n",
       " [3, 4],\n",
       " [3, 4, 5],\n",
       " [3, 4, 5, 6],\n",
       " [3, 4, 7],\n",
       " [3, 4, 5, 6, 8],\n",
       " [3, 9],\n",
       " [3, 4, 10],\n",
       " [3, 4, 5, 6, 11],\n",
       " [3, 4, 5, 6, 8, 12],\n",
       " [3, 4, 5, 6, 11, 13],\n",
       " [3, 4, 5, 6, 11, 13, 14],\n",
       " [3, 4, 5, 6, 11, 13, 14, 15],\n",
       " [3, 4, 10, 16],\n",
       " [3, 9, 17],\n",
       " [3, 4, 5, 6, 11, 18],\n",
       " [3, 4, 5, 6, 11, 13, 14, 15, 19],\n",
       " [3, 9, 17, 20],\n",
       " [3, 9, 17, 20, 21],\n",
       " [3, 9, 17, 20, 21, 22],\n",
       " [3, 9, 17, 20, 21, 22, 23],\n",
       " [3, 9, 17, 20, 21, 22, 24],\n",
       " [3, 9, 17, 20, 25],\n",
       " [3, 4, 5, 6, 11, 13, 14, 15, 19, 26],\n",
       " [3, 4, 5, 6, 11, 13, 14, 15, 19, 27],\n",
       " [3, 28],\n",
       " [3, 4, 5, 6, 11, 13, 14, 15, 19, 27, 29]]"
      ]
     },
     "execution_count": 7,
     "metadata": {},
     "output_type": "execute_result"
    }
   ],
   "source": [
    "path"
   ]
  },
  {
   "cell_type": "markdown",
   "metadata": {},
   "source": [
    "# Get the longest subsequence and visualize it"
   ]
  },
  {
   "cell_type": "code",
   "execution_count": 8,
   "metadata": {
    "ExecuteTime": {
     "end_time": "2020-10-19T13:14:44.975670Z",
     "start_time": "2020-10-19T13:14:44.964213Z"
    }
   },
   "outputs": [
    {
     "data": {
      "text/plain": [
       "(11, [3, 4, 5, 6, 11, 13, 14, 15, 19, 27, 29])"
      ]
     },
     "execution_count": 8,
     "metadata": {},
     "output_type": "execute_result"
    }
   ],
   "source": [
    "pos = -1\n",
    "length = -1 \n",
    "for i in range(n):\n",
    "    if dp[i]>length:\n",
    "        pos = i\n",
    "        length=dp[i]\n",
    "length,path[pos] "
   ]
  },
  {
   "cell_type": "code",
   "execution_count": 9,
   "metadata": {
    "ExecuteTime": {
     "end_time": "2020-10-19T13:14:45.536389Z",
     "start_time": "2020-10-19T13:14:44.977655Z"
    }
   },
   "outputs": [
    {
     "data": {
      "image/png": "[encoded data removed]",
      "text/plain": [
       "<Figure size 720x360 with 1 Axes>"
      ]
     },
     "metadata": {
      "needs_background": "light"
     },
     "output_type": "display_data"
    }
   ],
   "source": [
    "rest = list(set(range(n))-set(path[pos]))\n",
    "num = len(rest)\n",
    "\n",
    "plt.figure(figsize=(10, 5))\n",
    "\n",
    "plt.grid('minor')\n",
    "\n",
    "plt.xlim(-1,n+3)\n",
    "plt.ylim(-1,max(a)+8)\n",
    "plt.scatter(path[pos],np.array(a)[path[pos]],c='orange',label='The Points in the Longest Subsequence')\n",
    "plt.scatter(rest,np.array(a)[rest],c='blue',label='The Rest Points in the Initial Sequence')\n",
    "plt.plot(path[pos],np.array(a)[path[pos]],c='red',linestyle='-.',label=None,alpha=0.9)\n",
    "plt.legend(loc=2)\n",
    "plt.xlabel('The position of each point')\n",
    "plt.ylabel('The value of each point')\n",
    "plt.title('The Longest Increasing Subsequence')\n",
    "plt.savefig(\"path.png\",dpi=300)\n",
    "plt.show()"
   ]
  },
  {
   "cell_type": "code",
   "execution_count": null,
   "metadata": {},
   "outputs": [],
   "source": []
  }
 ],
 "metadata": {
  "kernelspec": {
   "display_name": "Python 3",
   "language": "python",
   "name": "python3"
  },
  "language_info": {
   "codemirror_mode": {
    "name": "ipython",
    "version": 3
   },
   "file_extension": ".py",
   "mimetype": "text/x-python",
   "name": "python",
   "nbconvert_exporter": "python",
   "pygments_lexer": "ipython3",
   "version": "3.7.4"
  },
  "toc": {
   "base_numbering": 1,
   "nav_menu": {},
   "number_sections": true,
   "sideBar": true,
   "skip_h1_title": false,
   "title_cell": "Table of Contents",
   "title_sidebar": "Contents",
   "toc_cell": false,
   "toc_position": {},
   "toc_section_display": true,
   "toc_window_display": false
  }
 },
 "nbformat": 4,
 "nbformat_minor": 4
}
