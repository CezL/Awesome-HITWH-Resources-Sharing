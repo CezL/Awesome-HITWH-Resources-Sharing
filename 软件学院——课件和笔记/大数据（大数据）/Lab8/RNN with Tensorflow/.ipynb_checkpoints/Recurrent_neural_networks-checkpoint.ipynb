{
 "cells": [
  {
   "cell_type": "markdown",
   "metadata": {},
   "source": [
    "# **Recurrent Neural Networks**"
   ]
  },
  {
   "cell_type": "markdown",
   "metadata": {},
   "source": [
    "# Setup"
   ]
  },
  {
   "cell_type": "markdown",
   "metadata": {},
   "source": [
    "First, let's make sure this notebook works well in both python 2 and 3, import a few common modules, ensure MatplotLib plots figures inline and prepare a function to save the figures:"
   ]
  },
  {
   "cell_type": "code",
   "execution_count": 1,
   "metadata": {},
   "outputs": [],
   "source": [
    "# To support both python 2 and python 3\n",
    "from __future__ import division, print_function, unicode_literals\n",
    "\n",
    "# Common imports\n",
    "import numpy as np\n",
    "import os\n",
    "\n",
    "# to make this notebook's output stable across runs\n",
    "def reset_graph(seed=42):\n",
    "    tf.reset_default_graph()\n",
    "    tf.set_random_seed(seed)\n",
    "    np.random.seed(seed)\n",
    "\n",
    "# To plot pretty figures\n",
    "%matplotlib inline\n",
    "import matplotlib\n",
    "import matplotlib.pyplot as plt\n",
    "plt.rcParams['axes.labelsize'] = 14\n",
    "plt.rcParams['xtick.labelsize'] = 12\n",
    "plt.rcParams['ytick.labelsize'] = 12\n",
    "\n",
    "# Where to save the figures\n",
    "PROJECT_ROOT_DIR = \".\"\n",
    "CHAPTER_ID = \"rnn\"\n",
    "\n",
    "def save_fig(fig_id, tight_layout=True):\n",
    "    path = os.path.join(PROJECT_ROOT_DIR, \"images\", CHAPTER_ID, fig_id + \".png\")\n",
    "    print(\"Saving figure\", fig_id)\n",
    "    if tight_layout:\n",
    "        plt.tight_layout()\n",
    "    plt.savefig(path, format='png', dpi=300)"
   ]
  },
  {
   "cell_type": "markdown",
   "metadata": {},
   "source": [
    "Then of course we will need TensorFlow:"
   ]
  },
  {
   "cell_type": "code",
   "execution_count": 2,
   "metadata": {},
   "outputs": [],
   "source": [
    "import tensorflow as tf"
   ]
  },
  {
   "cell_type": "markdown",
   "metadata": {},
   "source": [
    "# Basic RNNs"
   ]
  },
  {
   "cell_type": "markdown",
   "metadata": {},
   "source": [
    "There are different ways to implement RNN models.\n",
    "\n",
    "First, let’s implement a very simple RNN model, without using any of TensorFlow’s\n",
    "RNN operations, so called \"Manual RNN\", to better understand what goes on under the hood. \n",
    "\n",
    "We will create an RNN composed of a layer of five recurrent neurons, shown in sldide 18 of Session 8, using the tanh activation function. We will assume that the RNN runs\n",
    "over only two time steps, taking input vectors of size 3 at each time step. The following code builds this RNN, unrolled through two time steps:\n",
    "\n"
   ]
  },
  {
   "cell_type": "markdown",
   "metadata": {},
   "source": [
    "## Manual RNN"
   ]
  },
  {
   "cell_type": "code",
   "execution_count": 3,
   "metadata": {},
   "outputs": [],
   "source": [
    "# Graph Construction at first\n",
    "\n",
    "reset_graph()\n",
    "\n",
    "n_inputs = 3\n",
    "n_neurons = 5\n",
    "\n",
    "X0 = tf.placeholder(tf.float32, [None, n_inputs]) # two time steps, t=0 and t=1\n",
    "X1 = tf.placeholder(tf.float32, [None, n_inputs])\n",
    "\n",
    "Wx = tf.Variable(tf.random_normal(shape=[n_inputs, n_neurons],dtype=tf.float32)) # weighht for X\n",
    "Wy = tf.Variable(tf.random_normal(shape=[n_neurons,n_neurons],dtype=tf.float32)) # weight for Y\n",
    "b = tf.Variable(tf.zeros([1, n_neurons], dtype=tf.float32))\n",
    "\n",
    "# using function tanh() to actavite output Y\n",
    "\n",
    "Y0 = tf.tanh(tf.matmul(X0, Wx) + b)  # t=0\n",
    "Y1 = tf.tanh(tf.matmul(Y0, Wy) + tf.matmul(X1, Wx) + b) # at t=1\n",
    "\n",
    "init = tf.global_variables_initializer()"
   ]
  },
  {
   "cell_type": "markdown",
   "metadata": {},
   "source": [
    "This network looks much like a two-layer (one as hidden layer, another as output layer) feedforward neural network, with a few\n",
    "twists: first, the same weights and bias terms are shared by both layers, and second,\n",
    "we feed inputs at each layer, and we get outputs from each layer. \n",
    "\n",
    "To run the model, we need to feed it the inputs at both time steps, like so:"
   ]
  },
  {
   "cell_type": "code",
   "execution_count": 4,
   "metadata": {},
   "outputs": [],
   "source": [
    "# execute or run graph\n",
    "\n",
    "import numpy as np\n",
    "\n",
    "X0_batch = np.array([[0, 1, 2], [3, 4, 5], [6, 7, 8], [9, 0, 1]]) # t = 0, feed 4 instances \n",
    "X1_batch = np.array([[9, 8, 7], [0, 0, 0], [6, 5, 4], [3, 2, 1]]) # t = 1\n",
    "\n",
    "with tf.Session() as sess:\n",
    "    init.run()\n",
    "    Y0_val, Y1_val = sess.run([Y0, Y1], feed_dict={X0: X0_batch, X1: X1_batch})"
   ]
  },
  {
   "cell_type": "markdown",
   "metadata": {},
   "source": [
    "This mini-batch contains four instances, each with an input sequence composed of\n",
    "exactly two inputs. \n",
    "\n",
    "At the end, Y0_val and Y1_val contain the outputs of the network\n",
    "at both time steps for all neurons and all instances in the mini-batch:"
   ]
  },
  {
   "cell_type": "code",
   "execution_count": 5,
   "metadata": {},
   "outputs": [
    {
     "name": "stdout",
     "output_type": "stream",
     "text": [
      "[[-0.0664006   0.9625767   0.68105793  0.7091854  -0.898216  ]\n",
      " [ 0.9977755  -0.719789   -0.9965761   0.9673924  -0.9998972 ]\n",
      " [ 0.99999774 -0.99898803 -0.9999989   0.9967762  -0.9999999 ]\n",
      " [ 1.         -1.         -1.         -0.99818915  0.9995087 ]]\n"
     ]
    }
   ],
   "source": [
    "print(Y0_val) \n",
    "# output at t=0\n",
    "# five neurons, so we have five outputs in columns"
   ]
  },
  {
   "cell_type": "code",
   "execution_count": 6,
   "metadata": {},
   "outputs": [
    {
     "name": "stdout",
     "output_type": "stream",
     "text": [
      "[[ 1.         -1.         -1.          0.4020025  -0.9999998 ]\n",
      " [-0.12210421  0.6280527   0.9671843  -0.9937122  -0.25839362]\n",
      " [ 0.9999983  -0.9999994  -0.9999975  -0.8594331  -0.9999881 ]\n",
      " [ 0.99928284 -0.99999815 -0.9999058   0.9857963  -0.92205757]]\n"
     ]
    }
   ],
   "source": [
    "print(Y1_val)"
   ]
  },
  {
   "cell_type": "markdown",
   "metadata": {},
   "source": [
    "That wasn’t too hard, but of course if you want to be able to run an RNN over 100\n",
    "time steps, the graph is going to be pretty big. \n",
    "\n",
    "Now let’s look at how to create the same model using TensorFlow’s RNN operations."
   ]
  },
  {
   "cell_type": "markdown",
   "metadata": {},
   "source": [
    "## Using `static_rnn()`"
   ]
  },
  {
   "cell_type": "markdown",
   "metadata": {},
   "source": [
    "The static_rnn() function creates an unrolled RNN network by chaining cells. The\n",
    "following code creates the exact same model as the previous one:"
   ]
  },
  {
   "cell_type": "code",
   "execution_count": 7,
   "metadata": {},
   "outputs": [],
   "source": [
    "n_inputs = 3\n",
    "n_neurons = 5"
   ]
  },
  {
   "cell_type": "code",
   "execution_count": 8,
   "metadata": {},
   "outputs": [],
   "source": [
    "# create graph at first\n",
    "\n",
    "reset_graph()\n",
    "\n",
    "X0 = tf.placeholder(tf.float32, [None, n_inputs])\n",
    "X1 = tf.placeholder(tf.float32, [None, n_inputs])\n",
    "\n",
    "basic_cell = tf.contrib.rnn.BasicRNNCell(num_units=n_neurons)\n",
    "output_seqs, states = tf.contrib.rnn.static_rnn(basic_cell, [X0, X1],\n",
    "                                                dtype=tf.float32)\n",
    "Y0, Y1 = output_seqs"
   ]
  },
  {
   "cell_type": "markdown",
   "metadata": {},
   "source": [
    "First we create the input placeholders, as before. Then we create a BasicRNNCell ,\n",
    "which you can think of as a factory that creates copies of the cell to build the unrolled\n",
    "RNN (one for each time step). \n",
    "\n",
    "\n",
    "Then we call static_rnn() , giving it the cell factory and the input tensors, and telling it the data type of the inputs (this is used to create the initial state matrix, which by default is full of zeros). \n",
    "\n",
    "The static_rnn() function calls the cell factory’s __call__() function once per input, creating two copies of the cell (each containing a layer of five recurrent neurons), with shared weights and bias terms, and it chains them just like we did earlier. The static_rnn() function returns\n",
    "two objects. \n",
    "\n",
    "The first is a Python list containing the output tensors for each time step.\n",
    "The second is a tensor containing the final states of the network. When you are using\n",
    "basic cells, the final state is simply equal to the last output."
   ]
  },
  {
   "cell_type": "code",
   "execution_count": 9,
   "metadata": {},
   "outputs": [],
   "source": [
    "# then, we evalute the graph\n",
    "\n",
    "init = tf.global_variables_initializer()"
   ]
  },
  {
   "cell_type": "code",
   "execution_count": 10,
   "metadata": {},
   "outputs": [],
   "source": [
    "X0_batch = np.array([[0, 1, 2], [3, 4, 5], [6, 7, 8], [9, 0, 1]])\n",
    "X1_batch = np.array([[9, 8, 7], [0, 0, 0], [6, 5, 4], [3, 2, 1]])\n",
    "\n",
    "with tf.Session() as sess:\n",
    "    init.run()\n",
    "    Y0_val, Y1_val = sess.run([Y0, Y1], feed_dict={X0: X0_batch, X1: X1_batch})"
   ]
  },
  {
   "cell_type": "code",
   "execution_count": 11,
   "metadata": {},
   "outputs": [
    {
     "data": {
      "text/plain": [
       "array([[ 0.30741334, -0.32884315, -0.6542847 , -0.9385059 ,  0.52089024],\n",
       "       [ 0.99122757, -0.9542542 , -0.7518079 , -0.9995208 ,  0.9820235 ],\n",
       "       [ 0.9999268 , -0.99783254, -0.8247353 , -0.9999963 ,  0.99947774],\n",
       "       [ 0.996771  , -0.68750614,  0.8419969 ,  0.9303911 ,  0.8120684 ]],\n",
       "      dtype=float32)"
      ]
     },
     "execution_count": 11,
     "metadata": {},
     "output_type": "execute_result"
    }
   ],
   "source": [
    "Y0_val"
   ]
  },
  {
   "cell_type": "code",
   "execution_count": 12,
   "metadata": {},
   "outputs": [
    {
     "data": {
      "text/plain": [
       "array([[ 0.99998885, -0.9997605 , -0.06679298, -0.9999804 ,  0.99982214],\n",
       "       [-0.6524944 , -0.51520866, -0.37968954, -0.59225935, -0.08968385],\n",
       "       [ 0.998624  , -0.997152  , -0.03308626, -0.9991565 ,  0.9932902 ],\n",
       "       [ 0.99681675, -0.9598194 ,  0.39660636, -0.8307605 ,  0.7967197 ]],\n",
       "      dtype=float32)"
      ]
     },
     "execution_count": 12,
     "metadata": {},
     "output_type": "execute_result"
    }
   ],
   "source": [
    "Y1_val"
   ]
  },
  {
   "cell_type": "markdown",
   "metadata": {},
   "source": [
    "## Packing sequences"
   ]
  },
  {
   "cell_type": "markdown",
   "metadata": {},
   "source": [
    "If there were 50 time steps, it would not be very convenient to have to define 50 input\n",
    "placeholders and 50 output tensors. Moreover, at execution time you would have to feed each of the 50 placeholders and manipulate the 50 outputs. \n",
    "\n",
    "\n",
    "Let’s simplify this.\n",
    "The following code builds the same RNN again, but this time it takes a single input\n",
    "placeholder of shape [None, n_steps, n_inputs] where the first dimension is the\n",
    "mini-batch size. Then it extracts the list of input sequences for each time step. X_seqs\n",
    "is a Python list of n_steps tensors of shape [None, n_inputs] , where once again the\n",
    "first dimension is the mini-batch size. \n",
    "\n",
    "To do this, we first swap the first two dimensions using the transpose() function, so that the time steps are now the first dimension. Then we extract a Python list of tensors along the first dimension (i.e., one tensor per time step) using the unstack() function. The next two lines are the same as before. \n",
    "\n",
    "Finally, we merge all the output tensors into a single tensor using the\n",
    "stack() function, and we swap the first two dimensions to get a final outputs tensor of shape [None, n_steps, n_neurons] (again the first dimension is the mini-batch size).\n",
    "\n",
    "\n"
   ]
  },
  {
   "cell_type": "code",
   "execution_count": 13,
   "metadata": {},
   "outputs": [],
   "source": [
    "n_steps = 2\n",
    "n_inputs = 3\n",
    "n_neurons = 5"
   ]
  },
  {
   "cell_type": "code",
   "execution_count": 14,
   "metadata": {},
   "outputs": [],
   "source": [
    "reset_graph()\n",
    "\n",
    "X = tf.placeholder(tf.float32, [None, n_steps, n_inputs])\n",
    "X_seqs = tf.unstack(tf.transpose(X, perm=[1, 0, 2]))\n",
    "\n",
    "basic_cell = tf.contrib.rnn.BasicRNNCell(num_units=n_neurons)\n",
    "output_seqs, states = tf.contrib.rnn.static_rnn(basic_cell, X_seqs,\n",
    "                                                dtype=tf.float32)\n",
    "outputs = tf.transpose(tf.stack(output_seqs), perm=[1, 0, 2])"
   ]
  },
  {
   "cell_type": "code",
   "execution_count": 15,
   "metadata": {},
   "outputs": [],
   "source": [
    "init = tf.global_variables_initializer()"
   ]
  },
  {
   "cell_type": "code",
   "execution_count": 16,
   "metadata": {},
   "outputs": [],
   "source": [
    "X_batch = np.array([\n",
    "        # t = 0      t = 1 \n",
    "        [[0, 1, 2], [9, 8, 7]], # instance 1\n",
    "        [[3, 4, 5], [0, 0, 0]], # instance 2\n",
    "        [[6, 7, 8], [6, 5, 4]], # instance 3\n",
    "        [[9, 0, 1], [3, 2, 1]], # instance 4\n",
    "    ])\n",
    "\n",
    "with tf.Session() as sess:\n",
    "    init.run()\n",
    "    outputs_val = outputs.eval(feed_dict={X: X_batch})"
   ]
  },
  {
   "cell_type": "code",
   "execution_count": 17,
   "metadata": {},
   "outputs": [
    {
     "name": "stdout",
     "output_type": "stream",
     "text": [
      "[[[-0.45652324 -0.68064123  0.40938237  0.63104504 -0.45732826]\n",
      "  [-0.94288003 -0.9998869   0.94055814  0.9999985  -0.9999997 ]]\n",
      "\n",
      " [[-0.8001535  -0.9921827   0.7817797   0.9971031  -0.9964609 ]\n",
      "  [-0.637116    0.11300932  0.5798437   0.43105593 -0.63716984]]\n",
      "\n",
      " [[-0.93605185 -0.9998379   0.9308867   0.9999815  -0.99998295]\n",
      "  [-0.9165386  -0.9945604   0.89605415  0.99987197 -0.9999751 ]]\n",
      "\n",
      " [[ 0.9927369  -0.9981933  -0.55543643  0.9989031  -0.9953323 ]\n",
      "  [-0.02746334 -0.73191994  0.7827872   0.9525682  -0.97817713]]]\n"
     ]
    }
   ],
   "source": [
    "print(outputs_val)"
   ]
  },
  {
   "cell_type": "code",
   "execution_count": 18,
   "metadata": {},
   "outputs": [
    {
     "name": "stdout",
     "output_type": "stream",
     "text": [
      "[[-0.94288003 -0.9998869   0.94055814  0.9999985  -0.9999997 ]\n",
      " [-0.637116    0.11300932  0.5798437   0.43105593 -0.63716984]\n",
      " [-0.9165386  -0.9945604   0.89605415  0.99987197 -0.9999751 ]\n",
      " [-0.02746334 -0.73191994  0.7827872   0.9525682  -0.97817713]]\n"
     ]
    }
   ],
   "source": [
    "print(np.transpose(outputs_val, axes=[1, 0, 2])[1])"
   ]
  },
  {
   "cell_type": "markdown",
   "metadata": {},
   "source": [
    "## Using `dynamic_rnn()`"
   ]
  },
  {
   "cell_type": "markdown",
   "metadata": {},
   "source": [
    "The dynamic_rnn() function uses a while_loop() operation to run over the cell the\n",
    "appropriate number of times, and you can set swap_memory=True if you want it to\n",
    "swap the GPU’s memory to the CPU’s memory during backpropagation to avoid\n",
    "OOM errors. \n",
    "\n",
    "Conveniently, it also accepts a single tensor for all inputs at every time\n",
    "step (shape [None, n_steps, n_inputs] ) and it outputs a single tensor for all out‐\n",
    "puts at every time step (shape [None, n_steps, n_neurons] ); there is no need to\n",
    "stack, unstack, or transpose. The following code creates the same RNN as earlier\n",
    "using the dynamic_rnn() function. It’s so much nicer!\n",
    "\n",
    "For example:\n",
    "\n"
   ]
  },
  {
   "cell_type": "code",
   "execution_count": 19,
   "metadata": {},
   "outputs": [],
   "source": [
    "n_steps = 2\n",
    "n_inputs = 3\n",
    "n_neurons = 5"
   ]
  },
  {
   "cell_type": "code",
   "execution_count": 20,
   "metadata": {},
   "outputs": [],
   "source": [
    "reset_graph()\n",
    "\n",
    "X = tf.placeholder(tf.float32, [None, n_steps, n_inputs])\n",
    "\n",
    "basic_cell = tf.contrib.rnn.BasicRNNCell(num_units=n_neurons)\n",
    "outputs, states = tf.nn.dynamic_rnn(basic_cell, X, dtype=tf.float32) # calling dynamic_rnn()"
   ]
  },
  {
   "cell_type": "code",
   "execution_count": 21,
   "metadata": {},
   "outputs": [],
   "source": [
    "init = tf.global_variables_initializer()"
   ]
  },
  {
   "cell_type": "code",
   "execution_count": 22,
   "metadata": {},
   "outputs": [],
   "source": [
    "X_batch = np.array([\n",
    "        [[0, 1, 2], [9, 8, 7]], # instance 1\n",
    "        [[3, 4, 5], [0, 0, 0]], # instance 2\n",
    "        [[6, 7, 8], [6, 5, 4]], # instance 3\n",
    "        [[9, 0, 1], [3, 2, 1]], # instance 4\n",
    "    ])\n",
    "\n",
    "with tf.Session() as sess:\n",
    "    init.run()\n",
    "    outputs_val = outputs.eval(feed_dict={X: X_batch})"
   ]
  },
  {
   "cell_type": "code",
   "execution_count": 23,
   "metadata": {},
   "outputs": [
    {
     "name": "stdout",
     "output_type": "stream",
     "text": [
      "[[[-0.85115266  0.87358344  0.5802911   0.8954789  -0.0557505 ]\n",
      "  [-0.9999959   0.9999958   0.9981815   1.          0.37679598]]\n",
      "\n",
      " [[-0.9983293   0.9992038   0.98071456  0.999985    0.2519265 ]\n",
      "  [-0.70818055 -0.07723375 -0.8522789   0.5845348  -0.7878095 ]]\n",
      "\n",
      " [[-0.9999827   0.99999535  0.9992863   1.          0.5159071 ]\n",
      "  [-0.9993956   0.9984095   0.83422637  0.9999999  -0.47325212]]\n",
      "\n",
      " [[ 0.87888587  0.07356028  0.97216916  0.9998546  -0.7351168 ]\n",
      "  [-0.91345143  0.36009577  0.7624866   0.99817705  0.80142   ]]]\n"
     ]
    }
   ],
   "source": [
    "print(outputs_val)"
   ]
  },
  {
   "cell_type": "markdown",
   "metadata": {},
   "source": [
    "## Setting the sequence lengths"
   ]
  },
  {
   "cell_type": "markdown",
   "metadata": {},
   "source": [
    "So far we have used only fixed-size input sequences (all exactly two steps long). \n",
    "\n",
    "What if the input sequences have variable lengths (e.g., like sentences)? In this case you\n",
    "should set the sequence_length parameter when calling the dynamic_rnn() (or\n",
    "static_rnn() ) function; it must be a 1D tensor indicating the length of the input\n",
    "sequence for each instance. \n",
    "\n",
    "For example:"
   ]
  },
  {
   "cell_type": "code",
   "execution_count": 24,
   "metadata": {},
   "outputs": [],
   "source": [
    "n_steps = 2\n",
    "n_inputs = 3\n",
    "n_neurons = 5\n",
    "\n",
    "reset_graph()\n",
    "\n",
    "X = tf.placeholder(tf.float32, [None, n_steps, n_inputs])\n",
    "basic_cell = tf.contrib.rnn.BasicRNNCell(num_units=n_neurons)"
   ]
  },
  {
   "cell_type": "code",
   "execution_count": 25,
   "metadata": {},
   "outputs": [],
   "source": [
    "seq_length = tf.placeholder(tf.int32, [None])\n",
    "outputs, states = tf.nn.dynamic_rnn(basic_cell, X, dtype=tf.float32,\n",
    "                                    sequence_length=seq_length)"
   ]
  },
  {
   "cell_type": "code",
   "execution_count": 26,
   "metadata": {},
   "outputs": [],
   "source": [
    "init = tf.global_variables_initializer()"
   ]
  },
  {
   "cell_type": "code",
   "execution_count": 27,
   "metadata": {},
   "outputs": [],
   "source": [
    "X_batch = np.array([\n",
    "        # step 0     step 1\n",
    "        [[0, 1, 2], [9, 8, 7]], # instance 1\n",
    "        [[3, 4, 5], [0, 0, 0]], # instance 2 (padded with zero vectors)\n",
    "        [[6, 7, 8], [6, 5, 4]], # instance 3\n",
    "        [[9, 0, 1], [3, 2, 1]], # instance 4\n",
    "    ])\n",
    "seq_length_batch = np.array([2, 1, 2, 2])"
   ]
  },
  {
   "cell_type": "code",
   "execution_count": 28,
   "metadata": {},
   "outputs": [],
   "source": [
    "with tf.Session() as sess:\n",
    "    init.run()\n",
    "    outputs_val, states_val = sess.run(\n",
    "        [outputs, states], feed_dict={X: X_batch, seq_length: seq_length_batch})"
   ]
  },
  {
   "cell_type": "code",
   "execution_count": 29,
   "metadata": {},
   "outputs": [
    {
     "name": "stdout",
     "output_type": "stream",
     "text": [
      "[[[-0.9123188   0.16516446  0.5548655  -0.39159346  0.20846416]\n",
      "  [-1.          0.9567259   0.99831694  0.99970174  0.9651857 ]]\n",
      "\n",
      " [[-0.9998612   0.6702289   0.9723653   0.6631046   0.74457586]\n",
      "  [ 0.          0.          0.          0.          0.        ]]\n",
      "\n",
      " [[-0.99999976  0.8967997   0.9986295   0.9647514   0.9366201 ]\n",
      "  [-0.9999526   0.9681953   0.9600286   0.9870625   0.8545923 ]]\n",
      "\n",
      " [[-0.96435434  0.99501586 -0.36150697  0.9983378   0.999497  ]\n",
      "  [-0.9613586   0.9568762   0.71322876  0.97729224 -0.09582978]]]\n"
     ]
    }
   ],
   "source": [
    "print(outputs_val)"
   ]
  },
  {
   "cell_type": "code",
   "execution_count": 30,
   "metadata": {},
   "outputs": [
    {
     "name": "stdout",
     "output_type": "stream",
     "text": [
      "[[-1.          0.9567259   0.99831694  0.99970174  0.9651857 ]\n",
      " [-0.9998612   0.6702289   0.9723653   0.6631046   0.74457586]\n",
      " [-0.9999526   0.9681953   0.9600286   0.9870625   0.8545923 ]\n",
      " [-0.9613586   0.9568762   0.71322876  0.97729224 -0.09582978]]\n"
     ]
    }
   ],
   "source": [
    "print(states_val)"
   ]
  },
  {
   "cell_type": "markdown",
   "metadata": {},
   "source": [
    "# Training RNNs"
   ]
  },
  {
   "cell_type": "markdown",
   "metadata": {},
   "source": [
    "To train an RNN, the trick is to unroll it through time and then simply use regular backpropagation, as lectured. This strategy is called backpropagation through time (BPTT)."
   ]
  },
  {
   "cell_type": "markdown",
   "metadata": {},
   "source": [
    "## Training a sequence classifier"
   ]
  },
  {
   "cell_type": "markdown",
   "metadata": {},
   "source": [
    "Let’s train an RNN to classify MNIST images. \n",
    "\n",
    "A convolutional neural network would be better suited for image classification as discussed in the lecture, but this makes for a simple example that you are already familiar with. \n",
    "\n",
    "We will treat each image as a sequence of 28 rows of 28 pixels each (since each MNIST image is 28 × 28 pixels). \n",
    "\n",
    "We will use cells of 150 recurrent neurons, plus a fully connected layer containing 10 neurons\n",
    "(one per class) connected to the output of the last time step, followed by a softmax\n",
    "layer (see slide 28 in Session 9 of lecture-notes)."
   ]
  },
  {
   "cell_type": "markdown",
   "metadata": {},
   "source": [
    "The construction phase is quite straightforward; it’s pretty much the same as the\n",
    "MNIST classifier as before, except that an unrolled RNN replaces the\n",
    "hidden layers. \n",
    "\n",
    "Note that the fully connected layer is connected to the states tensor,\n",
    "which contains only the final state of the RNN (i.e., the 28 th output). \n",
    "\n",
    "Also note that y is a placeholder for the target classes."
   ]
  },
  {
   "cell_type": "code",
   "execution_count": 31,
   "metadata": {},
   "outputs": [],
   "source": [
    "reset_graph()\n",
    "\n",
    "n_steps = 28\n",
    "n_inputs = 28\n",
    "n_neurons = 150\n",
    "n_outputs = 10\n",
    "\n",
    "learning_rate = 0.001\n",
    "\n",
    "X = tf.placeholder(tf.float32, [None, n_steps, n_inputs])\n",
    "y = tf.placeholder(tf.int32, [None])\n",
    "\n",
    "basic_cell = tf.contrib.rnn.BasicRNNCell(num_units=n_neurons)\n",
    "outputs, states = tf.nn.dynamic_rnn(basic_cell, X, dtype=tf.float32)\n",
    "\n",
    "logits = tf.layers.dense(states, n_outputs)\n",
    "xentropy = tf.nn.sparse_softmax_cross_entropy_with_logits(labels=y,\n",
    "                                                          logits=logits)\n",
    "loss = tf.reduce_mean(xentropy)\n",
    "optimizer = tf.train.AdamOptimizer(learning_rate=learning_rate)\n",
    "training_op = optimizer.minimize(loss)\n",
    "correct = tf.nn.in_top_k(logits, y, 1)\n",
    "accuracy = tf.reduce_mean(tf.cast(correct, tf.float32))\n",
    "\n",
    "init = tf.global_variables_initializer()"
   ]
  },
  {
   "cell_type": "markdown",
   "metadata": {},
   "source": [
    "Now let’s load the MNIST data and reshape the test data to [batch_size, n_steps,\n",
    "n_inputs] as is expected by the network. We will take care of reshaping the training\n",
    "data in a momen"
   ]
  },
  {
   "cell_type": "code",
   "execution_count": 32,
   "metadata": {},
   "outputs": [
    {
     "name": "stdout",
     "output_type": "stream",
     "text": [
      "WARNING:tensorflow:From <ipython-input-32-9aff0e2313ad>:2: read_data_sets (from tensorflow.contrib.learn.python.learn.datasets.mnist) is deprecated and will be removed in a future version.\n",
      "Instructions for updating:\n",
      "Please use alternatives such as official/mnist/dataset.py from tensorflow/models.\n",
      "WARNING:tensorflow:From /anaconda3/envs/py35/lib/python3.5/site-packages/tensorflow/contrib/learn/python/learn/datasets/mnist.py:260: maybe_download (from tensorflow.contrib.learn.python.learn.datasets.base) is deprecated and will be removed in a future version.\n",
      "Instructions for updating:\n",
      "Please write your own downloading logic.\n",
      "WARNING:tensorflow:From /anaconda3/envs/py35/lib/python3.5/site-packages/tensorflow/contrib/learn/python/learn/datasets/mnist.py:262: extract_images (from tensorflow.contrib.learn.python.learn.datasets.mnist) is deprecated and will be removed in a future version.\n",
      "Instructions for updating:\n",
      "Please use tf.data to implement this functionality.\n",
      "Extracting /tmp/data/train-images-idx3-ubyte.gz\n",
      "WARNING:tensorflow:From /anaconda3/envs/py35/lib/python3.5/site-packages/tensorflow/contrib/learn/python/learn/datasets/mnist.py:267: extract_labels (from tensorflow.contrib.learn.python.learn.datasets.mnist) is deprecated and will be removed in a future version.\n",
      "Instructions for updating:\n",
      "Please use tf.data to implement this functionality.\n",
      "Extracting /tmp/data/train-labels-idx1-ubyte.gz\n",
      "Extracting /tmp/data/t10k-images-idx3-ubyte.gz\n",
      "Extracting /tmp/data/t10k-labels-idx1-ubyte.gz\n",
      "WARNING:tensorflow:From /anaconda3/envs/py35/lib/python3.5/site-packages/tensorflow/contrib/learn/python/learn/datasets/mnist.py:290: DataSet.__init__ (from tensorflow.contrib.learn.python.learn.datasets.mnist) is deprecated and will be removed in a future version.\n",
      "Instructions for updating:\n",
      "Please use alternatives such as official/mnist/dataset.py from tensorflow/models.\n"
     ]
    }
   ],
   "source": [
    "from tensorflow.examples.tutorials.mnist import input_data\n",
    "mnist = input_data.read_data_sets(\"/tmp/data/\")\n",
    "X_test = mnist.test.images.reshape((-1, n_steps, n_inputs))\n",
    "y_test = mnist.test.labels"
   ]
  },
  {
   "cell_type": "markdown",
   "metadata": {},
   "source": [
    "Now we are ready to train the RNN. The execution phase is exactly the same as for\n",
    "the MNIST classifier, except that we reshape each training batch before\n",
    "feeding it to the network."
   ]
  },
  {
   "cell_type": "code",
   "execution_count": 33,
   "metadata": {},
   "outputs": [
    {
     "name": "stdout",
     "output_type": "stream",
     "text": [
      "0 Train accuracy: 0.93333334 Test accuracy: 0.9311\n",
      "1 Train accuracy: 0.96666664 Test accuracy: 0.9522\n",
      "2 Train accuracy: 0.97333336 Test accuracy: 0.9586\n",
      "3 Train accuracy: 0.9533333 Test accuracy: 0.96\n",
      "4 Train accuracy: 0.96 Test accuracy: 0.9686\n",
      "5 Train accuracy: 0.98 Test accuracy: 0.9698\n",
      "6 Train accuracy: 0.98 Test accuracy: 0.971\n",
      "7 Train accuracy: 0.9866667 Test accuracy: 0.9697\n",
      "8 Train accuracy: 0.94666666 Test accuracy: 0.9706\n",
      "9 Train accuracy: 0.97333336 Test accuracy: 0.9712\n",
      "10 Train accuracy: 0.99333334 Test accuracy: 0.9737\n",
      "11 Train accuracy: 0.96 Test accuracy: 0.9689\n",
      "12 Train accuracy: 0.99333334 Test accuracy: 0.9735\n",
      "13 Train accuracy: 0.97333336 Test accuracy: 0.969\n",
      "14 Train accuracy: 0.96 Test accuracy: 0.9746\n",
      "15 Train accuracy: 0.99333334 Test accuracy: 0.9751\n",
      "16 Train accuracy: 0.9866667 Test accuracy: 0.9741\n",
      "17 Train accuracy: 0.98 Test accuracy: 0.9748\n",
      "18 Train accuracy: 0.9866667 Test accuracy: 0.9727\n",
      "19 Train accuracy: 0.9866667 Test accuracy: 0.9749\n",
      "20 Train accuracy: 0.97333336 Test accuracy: 0.9757\n",
      "21 Train accuracy: 0.96666664 Test accuracy: 0.9726\n",
      "22 Train accuracy: 0.97333336 Test accuracy: 0.9747\n",
      "23 Train accuracy: 1.0 Test accuracy: 0.9795\n",
      "24 Train accuracy: 0.99333334 Test accuracy: 0.9741\n",
      "25 Train accuracy: 0.9866667 Test accuracy: 0.976\n",
      "26 Train accuracy: 0.98 Test accuracy: 0.9741\n",
      "27 Train accuracy: 0.99333334 Test accuracy: 0.9754\n",
      "28 Train accuracy: 0.96666664 Test accuracy: 0.977\n",
      "29 Train accuracy: 0.99333334 Test accuracy: 0.9808\n",
      "30 Train accuracy: 0.98 Test accuracy: 0.9784\n",
      "31 Train accuracy: 0.9866667 Test accuracy: 0.9812\n",
      "32 Train accuracy: 0.9866667 Test accuracy: 0.9779\n",
      "33 Train accuracy: 0.99333334 Test accuracy: 0.9769\n",
      "34 Train accuracy: 0.99333334 Test accuracy: 0.9762\n",
      "35 Train accuracy: 1.0 Test accuracy: 0.9764\n",
      "36 Train accuracy: 1.0 Test accuracy: 0.9774\n",
      "37 Train accuracy: 0.99333334 Test accuracy: 0.9797\n",
      "38 Train accuracy: 0.99333334 Test accuracy: 0.9759\n",
      "39 Train accuracy: 0.99333334 Test accuracy: 0.975\n",
      "40 Train accuracy: 0.99333334 Test accuracy: 0.9785\n",
      "41 Train accuracy: 0.9866667 Test accuracy: 0.9809\n",
      "42 Train accuracy: 0.98 Test accuracy: 0.9749\n",
      "43 Train accuracy: 0.99333334 Test accuracy: 0.9773\n",
      "44 Train accuracy: 0.99333334 Test accuracy: 0.98\n",
      "45 Train accuracy: 1.0 Test accuracy: 0.9788\n",
      "46 Train accuracy: 0.9866667 Test accuracy: 0.977\n",
      "47 Train accuracy: 1.0 Test accuracy: 0.9775\n",
      "48 Train accuracy: 1.0 Test accuracy: 0.9806\n",
      "49 Train accuracy: 0.99333334 Test accuracy: 0.9765\n",
      "50 Train accuracy: 1.0 Test accuracy: 0.9801\n",
      "51 Train accuracy: 0.99333334 Test accuracy: 0.9792\n",
      "52 Train accuracy: 0.99333334 Test accuracy: 0.9807\n",
      "53 Train accuracy: 1.0 Test accuracy: 0.9765\n",
      "54 Train accuracy: 1.0 Test accuracy: 0.9781\n",
      "55 Train accuracy: 0.97333336 Test accuracy: 0.9735\n",
      "56 Train accuracy: 1.0 Test accuracy: 0.9792\n",
      "57 Train accuracy: 1.0 Test accuracy: 0.9795\n",
      "58 Train accuracy: 0.9866667 Test accuracy: 0.9763\n",
      "59 Train accuracy: 1.0 Test accuracy: 0.9806\n",
      "60 Train accuracy: 1.0 Test accuracy: 0.9771\n",
      "61 Train accuracy: 1.0 Test accuracy: 0.9704\n",
      "62 Train accuracy: 1.0 Test accuracy: 0.9811\n",
      "63 Train accuracy: 0.98 Test accuracy: 0.9721\n",
      "64 Train accuracy: 0.99333334 Test accuracy: 0.9708\n",
      "65 Train accuracy: 1.0 Test accuracy: 0.9799\n",
      "66 Train accuracy: 0.99333334 Test accuracy: 0.9793\n",
      "67 Train accuracy: 0.99333334 Test accuracy: 0.9802\n",
      "68 Train accuracy: 0.98 Test accuracy: 0.9753\n",
      "69 Train accuracy: 0.99333334 Test accuracy: 0.972\n",
      "70 Train accuracy: 0.97333336 Test accuracy: 0.9757\n",
      "71 Train accuracy: 1.0 Test accuracy: 0.9751\n",
      "72 Train accuracy: 0.9866667 Test accuracy: 0.9782\n",
      "73 Train accuracy: 1.0 Test accuracy: 0.9758\n",
      "74 Train accuracy: 0.99333334 Test accuracy: 0.975\n",
      "75 Train accuracy: 0.9866667 Test accuracy: 0.9793\n",
      "76 Train accuracy: 0.9866667 Test accuracy: 0.9768\n",
      "77 Train accuracy: 1.0 Test accuracy: 0.9758\n",
      "78 Train accuracy: 0.99333334 Test accuracy: 0.9817\n",
      "79 Train accuracy: 0.98 Test accuracy: 0.9763\n",
      "80 Train accuracy: 0.98 Test accuracy: 0.9758\n",
      "81 Train accuracy: 1.0 Test accuracy: 0.9794\n",
      "82 Train accuracy: 0.99333334 Test accuracy: 0.9775\n",
      "83 Train accuracy: 1.0 Test accuracy: 0.9753\n",
      "84 Train accuracy: 1.0 Test accuracy: 0.982\n",
      "85 Train accuracy: 1.0 Test accuracy: 0.9774\n",
      "86 Train accuracy: 1.0 Test accuracy: 0.9774\n",
      "87 Train accuracy: 0.97333336 Test accuracy: 0.9774\n",
      "88 Train accuracy: 0.99333334 Test accuracy: 0.9781\n",
      "89 Train accuracy: 0.99333334 Test accuracy: 0.977\n",
      "90 Train accuracy: 1.0 Test accuracy: 0.9812\n",
      "91 Train accuracy: 0.9866667 Test accuracy: 0.9777\n",
      "92 Train accuracy: 0.99333334 Test accuracy: 0.9794\n",
      "93 Train accuracy: 0.99333334 Test accuracy: 0.9744\n",
      "94 Train accuracy: 0.99333334 Test accuracy: 0.9755\n",
      "95 Train accuracy: 1.0 Test accuracy: 0.9753\n",
      "96 Train accuracy: 0.99333334 Test accuracy: 0.9714\n",
      "97 Train accuracy: 1.0 Test accuracy: 0.9778\n",
      "98 Train accuracy: 0.98 Test accuracy: 0.9777\n",
      "99 Train accuracy: 0.99333334 Test accuracy: 0.9791\n"
     ]
    }
   ],
   "source": [
    "n_epochs = 100\n",
    "batch_size = 150\n",
    "\n",
    "with tf.Session() as sess:\n",
    "    init.run()\n",
    "    for epoch in range(n_epochs):\n",
    "        for iteration in range(mnist.train.num_examples // batch_size):\n",
    "            X_batch, y_batch = mnist.train.next_batch(batch_size)\n",
    "            X_batch = X_batch.reshape((-1, n_steps, n_inputs))\n",
    "            sess.run(training_op, feed_dict={X: X_batch, y: y_batch})\n",
    "        acc_train = accuracy.eval(feed_dict={X: X_batch, y: y_batch})\n",
    "        acc_test = accuracy.eval(feed_dict={X: X_test, y: y_test})\n",
    "        print(epoch, \"Train accuracy:\", acc_train, \"Test accuracy:\", acc_test)\n",
    "        \n",
    "        # it takes some time for printing train accuray for 100 batch computing"
   ]
  },
  {
   "cell_type": "code",
   "execution_count": 34,
   "metadata": {},
   "outputs": [],
   "source": [
    "# We get over 98% accuracy—not bad! Plus you would certainly get a better result by\n",
    "# tuning the hyperparameters, initializing the RNN weights using He initialization,\n",
    "# training longer, or adding a bit of regularization (e.g., dropout)."
   ]
  },
  {
   "cell_type": "markdown",
   "metadata": {},
   "source": [
    "# Time series"
   ]
  },
  {
   "cell_type": "markdown",
   "metadata": {},
   "source": [
    "Now let’s take a look at how to handle time series, such as stock prices, air temperature, brain wave patterns, and so on. \n",
    "\n",
    "In this section we will train an RNN to predict the next value in a generated time series. Each training instance is a randomly selected sequence of 20 consecutive values from the time series, and the target sequence is the same as the input sequence, except it is shifted by one time step into the future. \n",
    "\n",
    "Please refer to my lecture slides 29 -38 of Session 9."
   ]
  },
  {
   "cell_type": "code",
   "execution_count": 35,
   "metadata": {},
   "outputs": [],
   "source": [
    "# First, let'us have a plot for this time-seris\n",
    "\n",
    "t_min, t_max = 0, 30\n",
    "resolution = 0.1\n",
    "\n",
    "def time_series(t):\n",
    "    return t * np.sin(t) / 3 + 2 * np.sin(t*5)\n",
    "\n",
    "def next_batch(batch_size, n_steps):\n",
    "    t0 = np.random.rand(batch_size, 1) * (t_max - t_min - n_steps * resolution)\n",
    "    Ts = t0 + np.arange(0., n_steps + 1) * resolution\n",
    "    ys = time_series(Ts)\n",
    "    return ys[:, :-1].reshape(-1, n_steps, 1), ys[:, 1:].reshape(-1, n_steps, 1)"
   ]
  },
  {
   "cell_type": "code",
   "execution_count": 36,
   "metadata": {},
   "outputs": [
    {
     "name": "stdout",
     "output_type": "stream",
     "text": [
      "Saving figure time_series_plot\n"
     ]
    },
    {
     "data": {
      "image/png": "[encoded data removed]",
      "text/plain": [
       "<Figure size 792x288 with 2 Axes>"
      ]
     },
     "metadata": {
      "needs_background": "light"
     },
     "output_type": "display_data"
    }
   ],
   "source": [
    "t = np.linspace(t_min, t_max, int((t_max - t_min) / resolution))\n",
    "\n",
    "n_steps = 20\n",
    "t_instance = np.linspace(12.2, 12.2 + resolution * (n_steps + 1), n_steps + 1)\n",
    "\n",
    "plt.figure(figsize=(11,4))\n",
    "plt.subplot(121)\n",
    "plt.title(\"A time series (generated)\", fontsize=14)\n",
    "plt.plot(t, time_series(t), label=r\"$t . \\sin(t) / 3 + 2 . \\sin(5t)$\")\n",
    "plt.plot(t_instance[:-1], time_series(t_instance[:-1]), \"b-\", linewidth=3, label=\"A training instance\")\n",
    "plt.legend(loc=\"lower left\", fontsize=14)\n",
    "plt.axis([0, 30, -17, 13])\n",
    "plt.xlabel(\"Time\")\n",
    "plt.ylabel(\"Value\")\n",
    "\n",
    "plt.subplot(122)\n",
    "plt.title(\"A training instance\", fontsize=14)\n",
    "plt.plot(t_instance[:-1], time_series(t_instance[:-1]), \"bo\", markersize=10, label=\"instance\")\n",
    "plt.plot(t_instance[1:], time_series(t_instance[1:]), \"w*\", markersize=10, label=\"target\")\n",
    "plt.legend(loc=\"upper left\")\n",
    "plt.xlabel(\"Time\")\n",
    "\n",
    "\n",
    "save_fig(\"time_series_plot\")\n",
    "plt.show()"
   ]
  },
  {
   "cell_type": "code",
   "execution_count": 37,
   "metadata": {},
   "outputs": [],
   "source": [
    "X_batch, y_batch = next_batch(1, n_steps)"
   ]
  },
  {
   "cell_type": "code",
   "execution_count": 38,
   "metadata": {},
   "outputs": [
    {
     "data": {
      "text/plain": [
       "array([[-4.50341339, -4.14236382],\n",
       "       [-4.14236382, -3.92870702],\n",
       "       [-3.92870702, -4.0488651 ],\n",
       "       [-4.0488651 , -4.59566362],\n",
       "       [-4.59566362, -5.54426493],\n",
       "       [-5.54426493, -6.75703201],\n",
       "       [-6.75703201, -8.0161452 ],\n",
       "       [-8.0161452 , -9.07599852],\n",
       "       [-9.07599852, -9.72255772],\n",
       "       [-9.72255772, -9.82515641],\n",
       "       [-9.82515641, -9.36805638],\n",
       "       [-9.36805638, -8.45405093],\n",
       "       [-8.45405093, -7.27923294],\n",
       "       [-7.27923294, -6.08510771],\n",
       "       [-6.08510771, -5.09977511],\n",
       "       [-5.09977511, -4.48258027],\n",
       "       [-4.48258027, -4.28578062],\n",
       "       [-4.28578062, -4.44260919],\n",
       "       [-4.44260919, -4.78464929],\n",
       "       [-4.78464929, -5.08425773]])"
      ]
     },
     "execution_count": 38,
     "metadata": {},
     "output_type": "execute_result"
    }
   ],
   "source": [
    "np.c_[X_batch[0], y_batch[0]]"
   ]
  },
  {
   "cell_type": "code",
   "execution_count": 39,
   "metadata": {},
   "outputs": [],
   "source": [
    "# So, we have got X-bach and Y_bach"
   ]
  },
  {
   "cell_type": "markdown",
   "metadata": {},
   "source": [
    "## Using an `OuputProjectionWrapper`"
   ]
  },
  {
   "cell_type": "markdown",
   "metadata": {},
   "source": [
    "Let's create the RNN. It will contain 100 recurrent neurons and we will unroll it over 20 time steps since each traiing instance will be 20 inputs long. Each input will contain only one feature (the value at that time). The targets are also sequences of 20 inputs, each containing a sigle value:"
   ]
  },
  {
   "cell_type": "code",
   "execution_count": 40,
   "metadata": {},
   "outputs": [],
   "source": [
    "reset_graph()\n",
    "\n",
    "n_steps = 20\n",
    "n_inputs = 1\n",
    "n_neurons = 100\n",
    "n_outputs = 1\n",
    "\n",
    "X = tf.placeholder(tf.float32, [None, n_steps, n_inputs])\n",
    "y = tf.placeholder(tf.float32, [None, n_steps, n_outputs])\n",
    "\n",
    "cell = tf.contrib.rnn.BasicRNNCell(num_units=n_neurons, activation=tf.nn.relu)\n",
    "outputs, states = tf.nn.dynamic_rnn(cell, X, dtype=tf.float32)"
   ]
  },
  {
   "cell_type": "markdown",
   "metadata": {},
   "source": [
    "At each time step we now have an output vector of size 100. But what we actually want is a single output value at each time step. The simplest solution is to wrap the cell in an `OutputProjectionWrapper`.\n",
    "\n",
    "A cell wrapper acts like a normal cell, proxying every method call to an underlying cell, but it also adds some functionality. The OutputProjectionWrapper adds a fully connected layer of linear neurons (i.e., without any activation function) on top of each output (but it does not affect the cell state).\n",
    "\n",
    "All these fully connected layers share the same (trainable) weights and bias terms.\n",
    "The resulting RNN is represented in lecture slide 32 of Section 9.\n"
   ]
  },
  {
   "cell_type": "code",
   "execution_count": 41,
   "metadata": {},
   "outputs": [],
   "source": [
    "reset_graph()\n",
    "\n",
    "n_steps = 20\n",
    "n_inputs = 1\n",
    "n_neurons = 100\n",
    "n_outputs = 1\n",
    "\n",
    "X = tf.placeholder(tf.float32, [None, n_steps, n_inputs])\n",
    "y = tf.placeholder(tf.float32, [None, n_steps, n_outputs])"
   ]
  },
  {
   "cell_type": "code",
   "execution_count": 42,
   "metadata": {},
   "outputs": [],
   "source": [
    "# Wrapping a cell is quite easy. Let’s tweak the preceding code by wrapping the\n",
    "# BasicRNNCell into an OutputProjectionWrapper :"
   ]
  },
  {
   "cell_type": "code",
   "execution_count": 43,
   "metadata": {},
   "outputs": [],
   "source": [
    "cell = tf.contrib.rnn.OutputProjectionWrapper(\n",
    "    tf.contrib.rnn.BasicRNNCell(num_units=n_neurons, activation=tf.nn.relu),\n",
    "    output_size=n_outputs)"
   ]
  },
  {
   "cell_type": "code",
   "execution_count": 44,
   "metadata": {},
   "outputs": [],
   "source": [
    "outputs, states = tf.nn.dynamic_rnn(cell, X, dtype=tf.float32)"
   ]
  },
  {
   "cell_type": "code",
   "execution_count": 45,
   "metadata": {},
   "outputs": [],
   "source": [
    "# So far, so good. Now we need to define the cost function. We will use the Mean\n",
    "# Squared Error (MSE), as we did in previous regression tasks. Next we will create an\n",
    "# Adam optimizer, the training op, and the variable initialization op, as usual:"
   ]
  },
  {
   "cell_type": "code",
   "execution_count": 46,
   "metadata": {},
   "outputs": [],
   "source": [
    "learning_rate = 0.001\n",
    "\n",
    "loss = tf.reduce_mean(tf.square(outputs - y)) # MSE\n",
    "optimizer = tf.train.AdamOptimizer(learning_rate=learning_rate)\n",
    "training_op = optimizer.minimize(loss)\n",
    "\n",
    "init = tf.global_variables_initializer()"
   ]
  },
  {
   "cell_type": "code",
   "execution_count": 47,
   "metadata": {},
   "outputs": [],
   "source": [
    "saver = tf.train.Saver()"
   ]
  },
  {
   "cell_type": "code",
   "execution_count": 48,
   "metadata": {},
   "outputs": [
    {
     "name": "stdout",
     "output_type": "stream",
     "text": [
      "0 \tMSE: 11.9672575\n",
      "100 \tMSE: 0.52584445\n",
      "200 \tMSE: 0.14959829\n",
      "300 \tMSE: 0.07381975\n",
      "400 \tMSE: 0.06171744\n",
      "500 \tMSE: 0.05968452\n",
      "600 \tMSE: 0.055536177\n",
      "700 \tMSE: 0.047983035\n",
      "800 \tMSE: 0.050073363\n",
      "900 \tMSE: 0.04728166\n",
      "1000 \tMSE: 0.047391903\n",
      "1100 \tMSE: 0.048076287\n",
      "1200 \tMSE: 0.040791243\n",
      "1300 \tMSE: 0.0479767\n",
      "1400 \tMSE: 0.04211445\n"
     ]
    }
   ],
   "source": [
    "# Now on to the execution phase:\n",
    "\n",
    "n_iterations = 1500\n",
    "batch_size = 50\n",
    "\n",
    "with tf.Session() as sess:\n",
    "    init.run()\n",
    "    for iteration in range(n_iterations):\n",
    "        X_batch, y_batch = next_batch(batch_size, n_steps)\n",
    "        sess.run(training_op, feed_dict={X: X_batch, y: y_batch})\n",
    "        if iteration % 100 == 0:\n",
    "            mse = loss.eval(feed_dict={X: X_batch, y: y_batch})\n",
    "            print(iteration, \"\\tMSE:\", mse)\n",
    "    \n",
    "    saver.save(sess, \"./my_time_series_model\") "
   ]
  },
  {
   "cell_type": "code",
   "execution_count": 49,
   "metadata": {},
   "outputs": [
    {
     "name": "stdout",
     "output_type": "stream",
     "text": [
      "INFO:tensorflow:Restoring parameters from ./my_time_series_model\n"
     ]
    }
   ],
   "source": [
    "# Once the model is trained, you can make predictions:\n",
    "\n",
    "with tf.Session() as sess:                          \n",
    "    saver.restore(sess, \"./my_time_series_model\")   \n",
    "\n",
    "    X_new = time_series(np.array(t_instance[:-1].reshape(-1, n_steps, n_inputs)))\n",
    "    y_pred = sess.run(outputs, feed_dict={X: X_new})"
   ]
  },
  {
   "cell_type": "code",
   "execution_count": 50,
   "metadata": {
    "scrolled": true
   },
   "outputs": [
    {
     "data": {
      "text/plain": [
       "array([[[-3.406515 ],\n",
       "        [-2.4501145],\n",
       "        [-1.1305888],\n",
       "        [ 0.7817146],\n",
       "        [ 2.2008858],\n",
       "        [ 3.138787 ],\n",
       "        [ 3.399897 ],\n",
       "        [ 3.3627138],\n",
       "        [ 2.8842826],\n",
       "        [ 2.2652197],\n",
       "        [ 1.650614 ],\n",
       "        [ 1.5299088],\n",
       "        [ 1.8965788],\n",
       "        [ 2.731001 ],\n",
       "        [ 3.9058359],\n",
       "        [ 5.14548  ],\n",
       "        [ 6.144004 ],\n",
       "        [ 6.6781516],\n",
       "        [ 6.6523943],\n",
       "        [ 6.0744486]]], dtype=float32)"
      ]
     },
     "execution_count": 50,
     "metadata": {},
     "output_type": "execute_result"
    }
   ],
   "source": [
    "y_pred"
   ]
  },
  {
   "cell_type": "code",
   "execution_count": 51,
   "metadata": {},
   "outputs": [
    {
     "name": "stdout",
     "output_type": "stream",
     "text": [
      "Saving figure time_series_pred_plot\n"
     ]
    },
    {
     "data": {
      "image/png": "[encoded data removed]",
      "text/plain": [
       "<Figure size 432x288 with 1 Axes>"
      ]
     },
     "metadata": {
      "needs_background": "light"
     },
     "output_type": "display_data"
    }
   ],
   "source": [
    "# plot prediction of the time seris\n",
    "\n",
    "plt.title(\"Testing the model\", fontsize=14)\n",
    "plt.plot(t_instance[:-1], time_series(t_instance[:-1]), \"bo\", markersize=10, label=\"instance\")\n",
    "plt.plot(t_instance[1:], time_series(t_instance[1:]), \"w*\", markersize=10, label=\"target\")\n",
    "plt.plot(t_instance[1:], y_pred[0,:,0], \"r.\", markersize=10, label=\"prediction\")\n",
    "plt.legend(loc=\"upper left\")\n",
    "plt.xlabel(\"Time\")\n",
    "\n",
    "save_fig(\"time_series_pred_plot\")\n",
    "plt.show()"
   ]
  },
  {
   "cell_type": "markdown",
   "metadata": {},
   "source": [
    "## Without using an `OutputProjectionWrapper`"
   ]
  },
  {
   "cell_type": "markdown",
   "metadata": {},
   "source": [
    "Although using an OutputProjectionWrapper is the simplest solution to reduce the\n",
    "dimensionality of the RNN’s output sequences down to just one value per time step\n",
    "(per instance), it is not the most efficient. \n",
    "\n",
    "\n",
    "There is a trickier but more efficient solution: you can reshape the RNN outputs from [batch_size, n_steps, n_neurons] to [batch_size * n_steps, n_neurons] , then apply a single fully connected layer with the appropriate output size (in our case just 1), which will result in an output tensor of shape [batch_size * n_steps, n_outputs] , and then reshape this tensor to [batch_size, n_steps, n_outputs] . \n",
    "\n",
    "These operations are shown in lecture slide 37 of Sesion 9.\n",
    "\n"
   ]
  },
  {
   "cell_type": "code",
   "execution_count": 52,
   "metadata": {},
   "outputs": [],
   "source": [
    "reset_graph()\n",
    "\n",
    "n_steps = 20\n",
    "n_inputs = 1\n",
    "n_neurons = 100\n",
    "\n",
    "X = tf.placeholder(tf.float32, [None, n_steps, n_inputs])\n",
    "y = tf.placeholder(tf.float32, [None, n_steps, n_outputs])"
   ]
  },
  {
   "cell_type": "code",
   "execution_count": 53,
   "metadata": {},
   "outputs": [],
   "source": [
    "# To implement this solution, we first revert to a basic cell, \n",
    "# without the OutputProjectionWrapper :"
   ]
  },
  {
   "cell_type": "code",
   "execution_count": 54,
   "metadata": {},
   "outputs": [],
   "source": [
    "cell = tf.contrib.rnn.BasicRNNCell(num_units=n_neurons, activation=tf.nn.relu)\n",
    "rnn_outputs, states = tf.nn.dynamic_rnn(cell, X, dtype=tf.float32)"
   ]
  },
  {
   "cell_type": "code",
   "execution_count": 55,
   "metadata": {},
   "outputs": [],
   "source": [
    "n_outputs = 1\n",
    "learning_rate = 0.001"
   ]
  },
  {
   "cell_type": "code",
   "execution_count": 56,
   "metadata": {},
   "outputs": [],
   "source": [
    "# Then we stack all the outputs using the reshape() operation, apply the fully connec‐\n",
    "# ted linear layer (without using any activation function; this is just a projection), and\n",
    "# finally unstack all the outputs, again using reshape() :"
   ]
  },
  {
   "cell_type": "code",
   "execution_count": 57,
   "metadata": {},
   "outputs": [],
   "source": [
    "stacked_rnn_outputs = tf.reshape(rnn_outputs, [-1, n_neurons])\n",
    "stacked_outputs = tf.layers.dense(stacked_rnn_outputs, n_outputs)\n",
    "outputs = tf.reshape(stacked_outputs, [-1, n_steps, n_outputs])"
   ]
  },
  {
   "cell_type": "code",
   "execution_count": 58,
   "metadata": {},
   "outputs": [],
   "source": [
    "# The rest of the code is the same as earlier. This can provide a significant speed boost\n",
    "# since there is just one fully connected layer instead of one per time step."
   ]
  },
  {
   "cell_type": "code",
   "execution_count": 59,
   "metadata": {},
   "outputs": [],
   "source": [
    "loss = tf.reduce_mean(tf.square(outputs - y))\n",
    "optimizer = tf.train.AdamOptimizer(learning_rate=learning_rate)\n",
    "training_op = optimizer.minimize(loss)\n",
    "\n",
    "init = tf.global_variables_initializer()\n",
    "saver = tf.train.Saver()"
   ]
  },
  {
   "cell_type": "code",
   "execution_count": 60,
   "metadata": {},
   "outputs": [
    {
     "name": "stdout",
     "output_type": "stream",
     "text": [
      "0 \tMSE: 13.907031\n",
      "100 \tMSE: 0.5056713\n",
      "200 \tMSE: 0.20992868\n",
      "300 \tMSE: 0.10282391\n",
      "400 \tMSE: 0.06876178\n",
      "500 \tMSE: 0.061076507\n",
      "600 \tMSE: 0.054797072\n",
      "700 \tMSE: 0.04966834\n",
      "800 \tMSE: 0.050121456\n",
      "900 \tMSE: 0.047807403\n",
      "1000 \tMSE: 0.04775478\n",
      "1100 \tMSE: 0.050040428\n",
      "1200 \tMSE: 0.041216638\n",
      "1300 \tMSE: 0.05031095\n",
      "1400 \tMSE: 0.04354385\n"
     ]
    }
   ],
   "source": [
    "n_iterations = 1500\n",
    "batch_size = 50\n",
    "\n",
    "with tf.Session() as sess:\n",
    "    init.run()\n",
    "    for iteration in range(n_iterations):\n",
    "        X_batch, y_batch = next_batch(batch_size, n_steps)\n",
    "        sess.run(training_op, feed_dict={X: X_batch, y: y_batch})\n",
    "        if iteration % 100 == 0:\n",
    "            mse = loss.eval(feed_dict={X: X_batch, y: y_batch})\n",
    "            print(iteration, \"\\tMSE:\", mse)\n",
    "    \n",
    "    X_new = time_series(np.array(t_instance[:-1].reshape(-1, n_steps, n_inputs)))\n",
    "    y_pred = sess.run(outputs, feed_dict={X: X_new})\n",
    "    \n",
    "    saver.save(sess, \"./my_time_series_model\")"
   ]
  },
  {
   "cell_type": "code",
   "execution_count": 61,
   "metadata": {},
   "outputs": [
    {
     "data": {
      "text/plain": [
       "array([[[-3.4392304 ],\n",
       "        [-2.4754486 ],\n",
       "        [-1.1431999 ],\n",
       "        [ 0.67572594],\n",
       "        [ 2.2022252 ],\n",
       "        [ 3.0979629 ],\n",
       "        [ 3.4667068 ],\n",
       "        [ 3.317198  ],\n",
       "        [ 2.856221  ],\n",
       "        [ 2.2434225 ],\n",
       "        [ 1.7069325 ],\n",
       "        [ 1.5460964 ],\n",
       "        [ 1.8807409 ],\n",
       "        [ 2.7058399 ],\n",
       "        [ 3.893656  ],\n",
       "        [ 5.112901  ],\n",
       "        [ 6.1083117 ],\n",
       "        [ 6.658971  ],\n",
       "        [ 6.645973  ],\n",
       "        [ 6.051144  ]]], dtype=float32)"
      ]
     },
     "execution_count": 61,
     "metadata": {},
     "output_type": "execute_result"
    }
   ],
   "source": [
    "y_pred"
   ]
  },
  {
   "cell_type": "code",
   "execution_count": 62,
   "metadata": {},
   "outputs": [
    {
     "data": {
      "image/png": "[encoded data removed]",
      "text/plain": [
       "<Figure size 432x288 with 1 Axes>"
      ]
     },
     "metadata": {
      "needs_background": "light"
     },
     "output_type": "display_data"
    }
   ],
   "source": [
    "plt.title(\"Testing the model\", fontsize=14)\n",
    "plt.plot(t_instance[:-1], time_series(t_instance[:-1]), \"bo\", markersize=10, label=\"instance\")\n",
    "plt.plot(t_instance[1:], time_series(t_instance[1:]), \"w*\", markersize=10, label=\"target\")\n",
    "plt.plot(t_instance[1:], y_pred[0,:,0], \"r.\", markersize=10, label=\"prediction\")\n",
    "plt.legend(loc=\"upper left\")\n",
    "plt.xlabel(\"Time\")\n",
    "\n",
    "plt.show()"
   ]
  },
  {
   "cell_type": "markdown",
   "metadata": {},
   "source": [
    "# Generating a creative new sequence (Optional)"
   ]
  },
  {
   "cell_type": "markdown",
   "metadata": {},
   "source": [
    "Now that we have a model that can predict the future.\n",
    "\n",
    "All we need is to provide it a seed sequence containing n_steps values (e.g., full of zeros), use the model to predict the next value, append this predicted value to the sequence, feed the last n_steps values to the model to predict the next value, and so on. \n",
    "\n",
    "This process generates a new sequence that has some resemblance to the original time series."
   ]
  },
  {
   "cell_type": "code",
   "execution_count": 63,
   "metadata": {},
   "outputs": [
    {
     "name": "stdout",
     "output_type": "stream",
     "text": [
      "INFO:tensorflow:Restoring parameters from ./my_time_series_model\n"
     ]
    }
   ],
   "source": [
    "with tf.Session() as sess:                        # not shown in the book\n",
    "    saver.restore(sess, \"./my_time_series_model\") # not shown\n",
    "\n",
    "    sequence = [0.] * n_steps\n",
    "    for iteration in range(300):\n",
    "        X_batch = np.array(sequence[-n_steps:]).reshape(1, n_steps, 1)\n",
    "        y_pred = sess.run(outputs, feed_dict={X: X_batch})\n",
    "        sequence.append(y_pred[0, -1, 0])"
   ]
  },
  {
   "cell_type": "code",
   "execution_count": 64,
   "metadata": {},
   "outputs": [
    {
     "data": {
      "image/png": "[encoded data removed]",
      "text/plain": [
       "<Figure size 576x288 with 1 Axes>"
      ]
     },
     "metadata": {
      "needs_background": "light"
     },
     "output_type": "display_data"
    }
   ],
   "source": [
    "plt.figure(figsize=(8,4))\n",
    "plt.plot(np.arange(len(sequence)), sequence, \"b-\")\n",
    "plt.plot(t[:n_steps], sequence[:n_steps], \"b-\", linewidth=3)\n",
    "plt.xlabel(\"Time\")\n",
    "plt.ylabel(\"Value\")\n",
    "plt.show()"
   ]
  },
  {
   "cell_type": "code",
   "execution_count": 65,
   "metadata": {},
   "outputs": [
    {
     "name": "stdout",
     "output_type": "stream",
     "text": [
      "INFO:tensorflow:Restoring parameters from ./my_time_series_model\n",
      "Saving figure creative_sequence_plot\n"
     ]
    },
    {
     "data": {
      "image/png": "[encoded data removed]",
      "text/plain": [
       "<Figure size 792x288 with 2 Axes>"
      ]
     },
     "metadata": {
      "needs_background": "light"
     },
     "output_type": "display_data"
    }
   ],
   "source": [
    "with tf.Session() as sess:\n",
    "    saver.restore(sess, \"./my_time_series_model\")\n",
    "\n",
    "    sequence1 = [0. for i in range(n_steps)]\n",
    "    for iteration in range(len(t) - n_steps):\n",
    "        X_batch = np.array(sequence1[-n_steps:]).reshape(1, n_steps, 1)\n",
    "        y_pred = sess.run(outputs, feed_dict={X: X_batch})\n",
    "        sequence1.append(y_pred[0, -1, 0])\n",
    "\n",
    "    sequence2 = [time_series(i * resolution + t_min + (t_max-t_min/3)) for i in range(n_steps)]\n",
    "    for iteration in range(len(t) - n_steps):\n",
    "        X_batch = np.array(sequence2[-n_steps:]).reshape(1, n_steps, 1)\n",
    "        y_pred = sess.run(outputs, feed_dict={X: X_batch})\n",
    "        sequence2.append(y_pred[0, -1, 0])\n",
    "\n",
    "plt.figure(figsize=(11,4))\n",
    "plt.subplot(121)\n",
    "plt.plot(t, sequence1, \"b-\")\n",
    "plt.plot(t[:n_steps], sequence1[:n_steps], \"b-\", linewidth=3)\n",
    "plt.xlabel(\"Time\")\n",
    "plt.ylabel(\"Value\")\n",
    "\n",
    "plt.subplot(122)\n",
    "plt.plot(t, sequence2, \"b-\")\n",
    "plt.plot(t[:n_steps], sequence2[:n_steps], \"b-\", linewidth=3)\n",
    "plt.xlabel(\"Time\")\n",
    "save_fig(\"creative_sequence_plot\")\n",
    "plt.show()"
   ]
  },
  {
   "cell_type": "code",
   "execution_count": null,
   "metadata": {},
   "outputs": [],
   "source": []
  },
  {
   "cell_type": "code",
   "execution_count": null,
   "metadata": {},
   "outputs": [],
   "source": []
  },
  {
   "cell_type": "code",
   "execution_count": null,
   "metadata": {},
   "outputs": [],
   "source": []
  }
 ],
 "metadata": {
  "kernelspec": {
   "display_name": "py35",
   "language": "python",
   "name": "py35"
  },
  "language_info": {
   "codemirror_mode": {
    "name": "ipython",
    "version": 3
   },
   "file_extension": ".py",
   "mimetype": "text/x-python",
   "name": "python",
   "nbconvert_exporter": "python",
   "pygments_lexer": "ipython3",
   "version": "3.5.4"
  },
  "nav_menu": {},
  "toc": {
   "navigate_menu": true,
   "number_sections": true,
   "sideBar": true,
   "threshold": 6,
   "toc_cell": false,
   "toc_section_display": "block",
   "toc_window_display": false
  }
 },
 "nbformat": 4,
 "nbformat_minor": 1
}
