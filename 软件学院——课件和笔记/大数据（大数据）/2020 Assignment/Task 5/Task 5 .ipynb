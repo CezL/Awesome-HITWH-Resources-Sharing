{
 "cells": [
  {
   "cell_type": "markdown",
   "metadata": {},
   "source": [
    "# Task 5"
   ]
  },
  {
   "cell_type": "raw",
   "metadata": {},
   "source": [
    "\n",
    "In this task, you are requested to develp a simple artificial neural network (ANN) for deep learning project.\n",
    "The ANN has input layer, two hidden layers and output layer.\n",
    "\n",
    "The input data is well known \"MNIST\" dataset, as introduced in the course.\n",
    "\n",
    "You may understand mnist data from this Website:\n",
    "\n",
    "https://corochann.com/mnist-dataset-introduction-1138.html\n",
    "\n",
    "(i) After the network trained, you must get to at least 96% test accuracy.\n",
    "(ii) Given an input image, say digit \"5\", you can use the network to predict \"true\" or \"false\"\n",
    "\n",
    "Notes:\n",
    "\n",
    "I have put necessary imports in following \"incompelted codes\".\n",
    "You should understand these modules and classes.\n"
   ]
  },
  {
   "cell_type": "code",
   "execution_count": null,
   "metadata": {},
   "outputs": [],
   "source": [
    "# uncompleted codes\n",
    "\n",
    "from __future__ import print_function\n",
    "\n",
    "import keras\n",
    "from keras.datasets import mnist\n",
    "from keras.models import Sequential\n",
    "from keras.layers import Dense, Dropout\n",
    "from keras.optimizers import RMSprop\n",
    "\n",
    "## write your codes below\n",
    "\n",
    "## ....\n",
    "\n",
    "## ...\n",
    "\n",
    "# at end, you should print for each epoch.\n",
    "\n",
    "print('Test loss:', a varible here )\n",
    "print('Test accuracy:', a variable here)\n",
    "\n",
    "# Then, one can see the accuracy\n",
    "\n",
    "# ...\n",
    "\n",
    "# Given an input image, say digit \"5\", the network can predict \"true\" or \"false\"\n",
    "# ....\n",
    "\n",
    "\n",
    "\n"
   ]
  },
  {
   "cell_type": "code",
   "execution_count": null,
   "metadata": {},
   "outputs": [],
   "source": []
  }
 ],
 "metadata": {
  "kernelspec": {
   "display_name": "py35",
   "language": "python",
   "name": "py35"
  },
  "language_info": {
   "codemirror_mode": {
    "name": "ipython",
    "version": 3
   },
   "file_extension": ".py",
   "mimetype": "text/x-python",
   "name": "python",
   "nbconvert_exporter": "python",
   "pygments_lexer": "ipython3",
   "version": "3.5.4"
  }
 },
 "nbformat": 4,
 "nbformat_minor": 2
}
